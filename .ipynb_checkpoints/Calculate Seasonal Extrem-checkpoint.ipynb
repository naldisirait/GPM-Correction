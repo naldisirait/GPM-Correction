{
 "cells": [
  {
   "cell_type": "code",
   "execution_count": 2,
   "id": "6755e473-e539-4fab-8337-891ee7047d64",
   "metadata": {},
   "outputs": [],
   "source": [
    "import numpy as np\n",
    "list_bulan = [1,2,3,4,5,6,7,8,9,10,12,1,2,3,4] #ambil dari data GPM\n",
    "ch  = np.random.randint(0, 100, size=(len(list_bulan),10,10))"
   ]
  },
  {
   "cell_type": "code",
   "execution_count": 4,
   "id": "2a74058e-ff7b-4c36-abdc-0acd4cacc64b",
   "metadata": {},
   "outputs": [],
   "source": [
    "musim = [\"DJF\", \"MAM\", \"JJA\", \"SON\"]"
   ]
  },
  {
   "cell_type": "code",
   "execution_count": 5,
   "id": "6062e01b-2735-40f4-b3f9-077d8e0aff97",
   "metadata": {},
   "outputs": [],
   "source": [
    "list_musim = []\n",
    "for bulan in list_bulan:\n",
    "    if bulan in [12,1,2]:\n",
    "        list_musim.append(\"DJF\")\n",
    "    elif bulan in [3,4,5]:\n",
    "        list_musim.append(\"MAM\")\n",
    "    elif bulan in [6,7,8]:\n",
    "        list_musim.append(\"JJA\")\n",
    "    elif bulan in [9,10,11]:\n",
    "        list_musim.append(\"SON\")"
   ]
  },
  {
   "cell_type": "code",
   "execution_count": 22,
   "id": "623f9100-1478-4876-b74c-697d1d7966ba",
   "metadata": {},
   "outputs": [],
   "source": [
    "#DJF\n",
    "idx_djf = np.where(np.array(list_musim) == \"DJF\")\n",
    "ch_djf = ch[idx_djf]\n",
    "\n",
    "#MAM\n",
    "idx_mam = np.where(np.array(list_musim) == \"MAM\")\n",
    "ch_mam = ch[idx_mam]"
   ]
  },
  {
   "cell_type": "code",
   "execution_count": 23,
   "id": "61c6483e-5bdc-4f98-8424-708235179653",
   "metadata": {
    "scrolled": true
   },
   "outputs": [],
   "source": [
    "# Data periode ulang\n",
    "T5 = np.ones((10,10))\n",
    "T5[:] = 20"
   ]
  },
  {
   "cell_type": "code",
   "execution_count": 21,
   "id": "59bbfd96-ce80-4ef8-b802-c41548f69e82",
   "metadata": {},
   "outputs": [
    {
     "data": {
      "text/plain": [
       "array([[4, 3, 4, 4, 5, 4, 5, 4, 4, 5],\n",
       "       [4, 4, 3, 3, 5, 3, 3, 3, 2, 3],\n",
       "       [4, 4, 2, 4, 4, 4, 4, 5, 3, 5],\n",
       "       [4, 4, 4, 4, 2, 3, 2, 5, 5, 4],\n",
       "       [5, 5, 3, 4, 4, 3, 3, 4, 3, 5],\n",
       "       [4, 4, 5, 4, 5, 4, 3, 4, 4, 3],\n",
       "       [3, 4, 3, 2, 4, 3, 4, 3, 5, 3],\n",
       "       [4, 4, 5, 1, 2, 3, 3, 3, 5, 2],\n",
       "       [2, 2, 4, 3, 4, 4, 5, 4, 4, 2],\n",
       "       [3, 5, 4, 3, 4, 3, 3, 4, 4, 4]])"
      ]
     },
     "execution_count": 21,
     "metadata": {},
     "output_type": "execute_result"
    }
   ],
   "source": [
    "sum(ch_djf > T5)"
   ]
  },
  {
   "cell_type": "code",
   "execution_count": 24,
   "id": "b7ec3be5-48c2-4174-816d-110ace874579",
   "metadata": {},
   "outputs": [
    {
     "data": {
      "text/plain": [
       "array([[2, 4, 4, 5, 5, 4, 4, 3, 3, 4],\n",
       "       [4, 4, 5, 4, 4, 3, 4, 4, 2, 4],\n",
       "       [4, 5, 3, 5, 4, 3, 2, 4, 3, 4],\n",
       "       [4, 5, 4, 3, 3, 3, 5, 5, 3, 5],\n",
       "       [5, 3, 4, 3, 3, 3, 3, 4, 3, 5],\n",
       "       [5, 5, 4, 3, 4, 5, 5, 5, 5, 4],\n",
       "       [5, 3, 4, 4, 4, 4, 4, 5, 4, 3],\n",
       "       [2, 2, 4, 1, 4, 5, 5, 3, 4, 3],\n",
       "       [5, 3, 3, 5, 5, 4, 4, 3, 5, 5],\n",
       "       [5, 4, 5, 5, 2, 5, 5, 4, 2, 5]])"
      ]
     },
     "execution_count": 24,
     "metadata": {},
     "output_type": "execute_result"
    }
   ],
   "source": [
    "sum(ch_mam > T5)"
   ]
  },
  {
   "cell_type": "code",
   "execution_count": null,
   "id": "23708eec-d1e9-4c2d-8130-44ad206275db",
   "metadata": {},
   "outputs": [],
   "source": []
  }
 ],
 "metadata": {
  "kernelspec": {
   "display_name": "Python 3 (ipykernel)",
   "language": "python",
   "name": "python3"
  },
  "language_info": {
   "codemirror_mode": {
    "name": "ipython",
    "version": 3
   },
   "file_extension": ".py",
   "mimetype": "text/x-python",
   "name": "python",
   "nbconvert_exporter": "python",
   "pygments_lexer": "ipython3",
   "version": "3.10.9"
  }
 },
 "nbformat": 4,
 "nbformat_minor": 5
}
