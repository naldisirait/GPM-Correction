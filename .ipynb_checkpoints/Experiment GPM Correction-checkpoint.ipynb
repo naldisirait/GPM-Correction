{
 "cells": [
  {
   "cell_type": "code",
   "execution_count": 11,
   "id": "0e173200-685a-4f15-8a3e-c005134fbb7e",
   "metadata": {},
   "outputs": [],
   "source": [
    "import numpy as np\n",
    "import pandas as pd\n",
    "import torch\n",
    "from utils.utils import read_json_file\n",
    "from source.data_ingest import load_dataset\n",
    "from source.configuration import Configuration\n",
    "from source.data_processing import process_data, cal_pu_gpm\n",
    "from source.building_data_loader import create_data_loader\n",
    "from source.model import create_model\n",
    "from source.train_model import train_model\n",
    "from source.evaluation import eval_experiment, inference_dl, Evaluation"
   ]
  },
  {
   "cell_type": "markdown",
   "id": "68c26382-c21f-4da9-90a7-cfe032ef5048",
   "metadata": {},
   "source": [
    "### 1. Read Data and Configuration"
   ]
  },
  {
   "cell_type": "code",
   "execution_count": 12,
   "id": "f148d602-db27-47dd-bb2d-a28808199b6c",
   "metadata": {},
   "outputs": [
    {
     "name": "stdout",
     "output_type": "stream",
     "text": [
      "0. Using device: cpu\n",
      "Loading Dataset DONE!\n"
     ]
    }
   ],
   "source": [
    "#0. Read configuration\n",
    "config = read_json_file(\"config.json\")\n",
    "config_class = Configuration(config)\n",
    "T = config_class.get_T()\n",
    "\n",
    "gpu_idx = config_class.get_gpu_index()\n",
    "device = torch.device(\"cpu\")\n",
    "print(f\"0. Using device: {device}\")\n",
    "\n",
    "batch_size = config_class.get_batch_size()\n",
    "#1. Open dataset\n",
    "ann_max_gpm, ann_max_stas, df_stasiun = load_dataset(config_class)\n",
    "print(\"Loading Dataset DONE!\")"
   ]
  },
  {
   "cell_type": "markdown",
   "id": "2161a1fd-21ea-44e3-8e06-6f56ca2a4d8f",
   "metadata": {},
   "source": [
    "Data yang digunakan:\n",
    "1. ann_max_gpm: data annual maxima gpm yang berbentuk \"Xarray Dataset\"\n",
    "2. ann_max_stas: data annual maxima pada setiap stasiun yang berbentuk \"Dictionary\". Nama Stasiun (Key) dan Nilai ann max CH (value)\n",
    "3. df_stasiun: data detail tentang setiap titik stasiun berbentuk \"Dataframe\". Features nya adalah Nama Stasiun, Elevasi, Jarak, Lintang, dan Bujur "
   ]
  },
  {
   "cell_type": "markdown",
   "id": "6e991a73-3d58-4853-968c-ee34dc2f5143",
   "metadata": {},
   "source": [
    "### 2. Data Processing"
   ]
  },
  {
   "cell_type": "code",
   "execution_count": 13,
   "id": "a7f499f9-c498-4df8-a6da-f91e1b1df0fe",
   "metadata": {},
   "outputs": [
    {
     "name": "stdout",
     "output_type": "stream",
     "text": [
      "torch.Size([73, 20, 3, 3]) torch.Size([73, 6, 1]) torch.Size([22, 20, 3, 3]) torch.Size([22, 6, 1])\n",
      "Processing Dataset DONE!\n"
     ]
    }
   ],
   "source": [
    "#2. Processing Dataset\n",
    "X_train, y_train, X_val, y_val = process_data(max_gpm=ann_max_gpm, \n",
    "                                              max_stas=ann_max_stas,\n",
    "                                              df_stas=df_stasiun,\n",
    "                                              config_class=config_class)\n",
    "pu_gpm = cal_pu_gpm(X_val,T)\n",
    " \n",
    "X_train = torch.tensor(X_train,dtype=torch.float32).to(device)\n",
    "y_train = torch.tensor(y_train,dtype=torch.float32).to(device)\n",
    "X_val = torch.tensor(X_val,dtype=torch.float32).to(device)\n",
    "y_val = torch.tensor(y_val,dtype=torch.float32).to(device)\n",
    "\n",
    "print(X_train.shape, y_train.shape, X_val.shape, y_val.shape)\n",
    "\n",
    "print(\"Processing Dataset DONE!\")"
   ]
  },
  {
   "cell_type": "markdown",
   "id": "50fd1c27-6324-4310-b244-d2edd44f39ef",
   "metadata": {},
   "source": [
    "### 3. Building Model and Data Loader"
   ]
  },
  {
   "cell_type": "code",
   "execution_count": 14,
   "id": "9bfe73b8-a779-446f-a279-2c7f1d8a0a0c",
   "metadata": {},
   "outputs": [
    {
     "name": "stdout",
     "output_type": "stream",
     "text": [
      "Creating Model.. DONE!\n"
     ]
    }
   ],
   "source": [
    "#3. Create Data Loader\n",
    "train_loader = create_data_loader(X=X_train, y=y_train, batch_size=batch_size, shuffle= True)\n",
    "val_loader = create_data_loader(X=X_val, y=y_val, batch_size=batch_size, shuffle= False)\n",
    "\n",
    "#4. Create Model\n",
    "model = create_model(config_class=config_class)\n",
    "\n",
    "print(\"Creating Model.. DONE!\")"
   ]
  },
  {
   "cell_type": "code",
   "execution_count": 15,
   "id": "79cd8372-506c-4cb6-b961-d44411e1aba4",
   "metadata": {},
   "outputs": [
    {
     "name": "stdout",
     "output_type": "stream",
     "text": [
      "RegCNN(\n",
      "  (conv1): Conv2d(20, 16, kernel_size=(2, 2), stride=(1, 1))\n",
      "  (conv2): Conv2d(16, 32, kernel_size=(2, 2), stride=(1, 1))\n",
      "  (pool): MaxPool2d(kernel_size=2, stride=2, padding=0, dilation=1, ceil_mode=False)\n",
      "  (fc1): Linear(in_features=32, out_features=128, bias=True)\n",
      "  (fc2): Linear(in_features=128, out_features=64, bias=True)\n",
      "  (fc3): Linear(in_features=64, out_features=6, bias=True)\n",
      ")\n"
     ]
    }
   ],
   "source": [
    "print(model)"
   ]
  },
  {
   "cell_type": "code",
   "execution_count": 16,
   "id": "a08222c1-4497-4928-9c2c-580de9190e35",
   "metadata": {
    "scrolled": true
   },
   "outputs": [
    {
     "name": "stdout",
     "output_type": "stream",
     "text": [
      "Epoch [1/30], Train Loss: 24160.3887, Eval Loss: 23047.28125\n",
      "Epoch [2/30], Train Loss: 18365.7676, Eval Loss: 2172.43408203125\n",
      "Epoch [3/30], Train Loss: 8659.4482, Eval Loss: 5720.8046875\n",
      "Epoch [4/30], Train Loss: 3861.0139, Eval Loss: 1773.92138671875\n",
      "Epoch [5/30], Train Loss: 2581.3984, Eval Loss: 2705.745849609375\n",
      "Epoch [6/30], Train Loss: 654.9138, Eval Loss: 990.464599609375\n",
      "Epoch [7/30], Train Loss: 3099.5078, Eval Loss: 1682.59326171875\n",
      "Epoch [8/30], Train Loss: 1213.1835, Eval Loss: 965.353759765625\n",
      "Epoch [9/30], Train Loss: 967.6153, Eval Loss: 1107.766845703125\n",
      "Epoch [10/30], Train Loss: 9065.5869, Eval Loss: 963.7057495117188\n",
      "Epoch [11/30], Train Loss: 1309.6132, Eval Loss: 1320.0125732421875\n",
      "Epoch [12/30], Train Loss: 1682.4469, Eval Loss: 960.6304321289062\n",
      "Epoch [13/30], Train Loss: 8065.2012, Eval Loss: 1002.383544921875\n",
      "Epoch [14/30], Train Loss: 1561.5282, Eval Loss: 1050.391357421875\n",
      "Epoch [15/30], Train Loss: 6950.2598, Eval Loss: 941.760009765625\n",
      "Epoch [16/30], Train Loss: 1584.7528, Eval Loss: 946.6421508789062\n",
      "Epoch [17/30], Train Loss: 1357.9559, Eval Loss: 947.7017822265625\n",
      "Epoch [18/30], Train Loss: 744.5419, Eval Loss: 900.8218383789062\n",
      "Epoch [19/30], Train Loss: 1074.9417, Eval Loss: 936.0606079101562\n",
      "Epoch [20/30], Train Loss: 6443.2505, Eval Loss: 897.7259521484375\n",
      "Epoch [21/30], Train Loss: 1267.9553, Eval Loss: 981.1661376953125\n",
      "Epoch [22/30], Train Loss: 6654.9575, Eval Loss: 882.5560302734375\n",
      "Epoch [23/30], Train Loss: 1561.0009, Eval Loss: 914.4445190429688\n",
      "Epoch [24/30], Train Loss: 4237.9155, Eval Loss: 961.4118041992188\n",
      "Epoch [25/30], Train Loss: 1302.2344, Eval Loss: 917.1070556640625\n",
      "Epoch [26/30], Train Loss: 2727.7463, Eval Loss: 860.68017578125\n",
      "Epoch [27/30], Train Loss: 1838.4171, Eval Loss: 888.0592041015625\n",
      "Epoch [28/30], Train Loss: 1970.2775, Eval Loss: 914.5623779296875\n",
      "Epoch [29/30], Train Loss: 5873.7598, Eval Loss: 856.329833984375\n",
      "Epoch [30/30], Train Loss: 5930.3037, Eval Loss: 900.672119140625\n",
      "Training model.. DONE\n"
     ]
    }
   ],
   "source": [
    "#5. Train Model\n",
    "model, train_loss, eval_loss = train_model(config_class= config_class, model=model, train_loader=train_loader,\n",
    "                                           X_val=X_val, y_val=y_val, device=device)\n",
    "print(\"Training model.. DONE\")\n",
    "pu_predicted = inference_dl(model=model, X=X_val)"
   ]
  },
  {
   "cell_type": "code",
   "execution_count": 17,
   "id": "caa452bf-35a1-475f-9092-21be7fbb2cb2",
   "metadata": {
    "scrolled": true
   },
   "outputs": [
    {
     "data": {
      "text/plain": [
       "array([[ 93.73782 , 116.15383 , 130.99518 , 149.74725 , 163.65862 ,\n",
       "        177.46725 ],\n",
       "       [151.27342 , 184.39372 , 206.32225 , 234.02899 , 254.58344 ,\n",
       "        274.9861  ],\n",
       "       [135.38972 , 191.74854 , 229.06299 , 276.20987 , 311.18613 ,\n",
       "        345.90414 ],\n",
       "       [ 96.17279 , 119.30864 , 134.62659 , 153.98085 , 168.33894 ,\n",
       "        182.59102 ],\n",
       "       [117.949875, 146.21806 , 164.93405 , 188.58177 , 206.125   ,\n",
       "        223.53868 ],\n",
       "       [123.8405  , 142.7959  , 155.34601 , 171.20312 , 182.96683 ,\n",
       "        194.64368 ],\n",
       "       [152.49948 , 198.56573 , 229.0656  , 267.60226 , 296.19095 ,\n",
       "        324.56857 ],\n",
       "       [129.98596 , 172.91359 , 201.33542 , 237.24646 , 263.88733 ,\n",
       "        290.33148 ],\n",
       "       [101.27444 , 124.47294 , 139.83237 , 159.23904 , 173.63603 ,\n",
       "        187.92671 ],\n",
       "       [124.42277 , 150.71379 , 168.12074 , 190.11446 , 206.43066 ,\n",
       "        222.62639 ],\n",
       "       [122.84566 , 153.94115 , 174.52907 , 200.54196 , 219.83981 ,\n",
       "        238.99518 ],\n",
       "       [113.973816, 154.62125 , 181.53337 , 215.53693 , 240.7627  ,\n",
       "        265.80222 ],\n",
       "       [128.52585 , 149.5133  , 163.40881 , 180.96584 , 193.99063 ,\n",
       "        206.91927 ],\n",
       "       [102.18954 , 122.10455 , 135.29002 , 151.9499  , 164.30916 ,\n",
       "        176.57715 ],\n",
       "       [ 89.600105, 124.675224, 147.89801 , 177.24007 , 199.00768 ,\n",
       "        220.61455 ],\n",
       "       [142.05287 , 168.44539 , 185.91954 , 207.99817 , 224.37735 ,\n",
       "        240.6356  ],\n",
       "       [ 51.631504,  72.1279  ,  85.69829 , 102.84452 , 115.564575,\n",
       "        128.1907  ],\n",
       "       [ 96.510666, 121.86574 , 138.653   , 159.86375 , 175.59909 ,\n",
       "        191.21825 ],\n",
       "       [109.550026, 159.30373 , 192.245   , 233.8664  , 264.74353 ,\n",
       "        295.39267 ],\n",
       "       [104.42427 , 146.72487 , 174.73154 , 210.11804 , 236.36978 ,\n",
       "        262.42767 ],\n",
       "       [ 89.240135, 120.564156, 141.30339 , 167.50746 , 186.94714 ,\n",
       "        206.24327 ],\n",
       "       [182.695   , 226.01346 , 254.69405 , 290.93204 , 317.81546 ,\n",
       "        344.50037 ]], dtype=float32)"
      ]
     },
     "execution_count": 17,
     "metadata": {},
     "output_type": "execute_result"
    }
   ],
   "source": [
    "y_val = y_val.view(len(y_val),-1)\n",
    "y_val = y_val.detach().numpy()\n",
    "y_val"
   ]
  },
  {
   "cell_type": "code",
   "execution_count": 18,
   "id": "be2d4156-1ed0-451f-8eb3-371d0dfbbfec",
   "metadata": {
    "scrolled": true
   },
   "outputs": [
    {
     "data": {
      "text/plain": [
       "array([[113.90806 , 150.70444 , 175.08484 , 205.55931 , 229.30591 ,\n",
       "        249.794   ],\n",
       "       [128.7629  , 173.16064 , 195.86833 , 227.9548  , 254.59041 ,\n",
       "        281.97195 ],\n",
       "       [131.4849  , 172.49135 , 202.30513 , 234.55934 , 261.42688 ,\n",
       "        286.89697 ],\n",
       "       [100.86522 , 135.20642 , 155.21753 , 181.11598 , 201.31752 ,\n",
       "        221.92387 ],\n",
       "       [124.18937 , 162.74002 , 188.73947 , 218.60066 , 242.93373 ,\n",
       "        268.79596 ],\n",
       "       [ 95.9727  , 128.17712 , 146.25032 , 170.46706 , 190.2639  ,\n",
       "        210.64503 ],\n",
       "       [125.19628 , 164.52069 , 191.78062 , 221.78896 , 250.46568 ,\n",
       "        272.3075  ],\n",
       "       [121.7229  , 160.05928 , 184.53456 , 216.99538 , 240.39984 ,\n",
       "        262.7207  ],\n",
       "       [107.41051 , 141.87215 , 165.5723  , 190.92241 , 213.23592 ,\n",
       "        234.643   ],\n",
       "       [122.73457 , 165.25072 , 184.0196  , 218.00307 , 242.29292 ,\n",
       "        269.1967  ],\n",
       "       [121.204704, 159.00978 , 184.75131 , 216.67094 , 243.1558  ,\n",
       "        264.43173 ],\n",
       "       [121.774414, 161.56514 , 186.8336  , 218.72314 , 241.97363 ,\n",
       "        266.63226 ],\n",
       "       [137.30608 , 184.41145 , 211.0707  , 244.68738 , 272.54047 ,\n",
       "        299.55768 ],\n",
       "       [102.58386 , 136.34895 , 159.79271 , 185.08913 , 206.95894 ,\n",
       "        225.66458 ],\n",
       "       [ 94.29333 , 122.17882 , 143.53368 , 165.79594 , 185.73462 ,\n",
       "        202.73515 ],\n",
       "       [121.156235, 162.19994 , 184.74655 , 218.57593 , 243.84111 ,\n",
       "        268.14178 ],\n",
       "       [ 71.342285,  95.00949 , 111.12844 , 128.21567 , 142.25659 ,\n",
       "        156.60483 ],\n",
       "       [ 82.04593 , 109.299   , 128.66353 , 147.9419  , 168.0317  ,\n",
       "        181.56303 ],\n",
       "       [123.23073 , 163.42894 , 190.96819 , 221.70107 , 248.9138  ,\n",
       "        269.0715  ],\n",
       "       [ 93.21626 , 122.220276, 139.73756 , 163.52902 , 182.82289 ,\n",
       "        200.49985 ],\n",
       "       [115.22624 , 156.7588  , 177.04732 , 206.98616 , 226.56398 ,\n",
       "        254.80762 ],\n",
       "       [156.39188 , 208.01056 , 238.58922 , 277.07996 , 310.6322  ,\n",
       "        341.9845  ]], dtype=float32)"
      ]
     },
     "execution_count": 18,
     "metadata": {},
     "output_type": "execute_result"
    }
   ],
   "source": [
    "pu_predicted = pu_predicted.detach().numpy()\n",
    "pu_predicted"
   ]
  },
  {
   "cell_type": "markdown",
   "id": "3acc7b23-b100-44dc-a496-474506a704a5",
   "metadata": {},
   "source": [
    "### 6. Evaluation "
   ]
  },
  {
   "cell_type": "code",
   "execution_count": 19,
   "id": "b084c13e-6b86-4410-a16b-e0da1182608f",
   "metadata": {},
   "outputs": [],
   "source": [
    "evaluation = Evaluation(model)\n",
    "nmse = []\n",
    "rmse = []\n",
    "for i in range(6):\n",
    "    nmse.append(evaluation.calculate_nmse_mean(pu_predicted[:,i],y_val[:,i]))\n",
    "    rmse.append(evaluation.calculate_rmse(pu_predicted[:,i],y_val[:,i]))"
   ]
  },
  {
   "cell_type": "code",
   "execution_count": 20,
   "id": "33009d00-4ff9-4274-aa78-29c3c1e4b5cf",
   "metadata": {},
   "outputs": [
    {
     "data": {
      "text/html": [
       "<div>\n",
       "<style scoped>\n",
       "    .dataframe tbody tr th:only-of-type {\n",
       "        vertical-align: middle;\n",
       "    }\n",
       "\n",
       "    .dataframe tbody tr th {\n",
       "        vertical-align: top;\n",
       "    }\n",
       "\n",
       "    .dataframe thead th {\n",
       "        text-align: right;\n",
       "    }\n",
       "</style>\n",
       "<table border=\"1\" class=\"dataframe\">\n",
       "  <thead>\n",
       "    <tr style=\"text-align: right;\">\n",
       "      <th></th>\n",
       "      <th>Periode Ulang</th>\n",
       "      <th>NMSE</th>\n",
       "      <th>RMSE</th>\n",
       "    </tr>\n",
       "  </thead>\n",
       "  <tbody>\n",
       "    <tr>\n",
       "      <th>0</th>\n",
       "      <td>2</td>\n",
       "      <td>0.135863</td>\n",
       "      <td>15.808170</td>\n",
       "    </tr>\n",
       "    <tr>\n",
       "      <th>1</th>\n",
       "      <td>5</td>\n",
       "      <td>0.134225</td>\n",
       "      <td>19.933538</td>\n",
       "    </tr>\n",
       "    <tr>\n",
       "      <th>2</th>\n",
       "      <td>10</td>\n",
       "      <td>0.142970</td>\n",
       "      <td>24.275940</td>\n",
       "    </tr>\n",
       "    <tr>\n",
       "      <th>3</th>\n",
       "      <td>25</td>\n",
       "      <td>0.158346</td>\n",
       "      <td>31.146151</td>\n",
       "    </tr>\n",
       "    <tr>\n",
       "      <th>4</th>\n",
       "      <td>50</td>\n",
       "      <td>0.168664</td>\n",
       "      <td>36.541286</td>\n",
       "    </tr>\n",
       "    <tr>\n",
       "      <th>5</th>\n",
       "      <td>100</td>\n",
       "      <td>0.182494</td>\n",
       "      <td>43.152275</td>\n",
       "    </tr>\n",
       "  </tbody>\n",
       "</table>\n",
       "</div>"
      ],
      "text/plain": [
       "   Periode Ulang      NMSE       RMSE\n",
       "0              2  0.135863  15.808170\n",
       "1              5  0.134225  19.933538\n",
       "2             10  0.142970  24.275940\n",
       "3             25  0.158346  31.146151\n",
       "4             50  0.168664  36.541286\n",
       "5            100  0.182494  43.152275"
      ]
     },
     "execution_count": 20,
     "metadata": {},
     "output_type": "execute_result"
    }
   ],
   "source": [
    "df_evaluation = pd.DataFrame(\n",
    "    {\"Periode Ulang\" : [2,5,10,25,50,100],\n",
    "     \"NMSE\" : nmse,\n",
    "     \"RMSE\" : rmse})\n",
    "df_evaluation"
   ]
  },
  {
   "cell_type": "code",
   "execution_count": 21,
   "id": "faedeabe-ce78-4092-963d-ed3d3f41adfa",
   "metadata": {},
   "outputs": [],
   "source": [
    "df_evaluation.to_excel(\"RMSE dan NMSE GPM Correction CNN.xlsx\")"
   ]
  },
  {
   "cell_type": "code",
   "execution_count": 22,
   "id": "ad34ed9d-6921-4600-b6e3-ac22b65ddae8",
   "metadata": {},
   "outputs": [],
   "source": [
    "torch.save(model, 'Reg Model CNN.pth')"
   ]
  },
  {
   "cell_type": "markdown",
   "id": "e5e4c9f9-0540-4f8c-869b-ebcaa375f3f1",
   "metadata": {},
   "source": [
    "### 7. Visualization"
   ]
  },
  {
   "cell_type": "code",
   "execution_count": null,
   "id": "9f9ac009-29ed-47aa-9451-06695172a833",
   "metadata": {},
   "outputs": [],
   "source": [
    "import matplotlib.pyplot as plt\n",
    "\n",
    "# Ganti nmse_all dengan nmse_all_before atau nmse_difference sesuai kebutuhan\n",
    "data_to_visualize = nmse_difference  # atau nmse_difference\n",
    "\n",
    "# Extract data for visualization\n",
    "periods_to_plot = [2, 5, 10, 25, 50, 100]\n",
    "\n",
    "# Inisialisasi dictionary untuk menyimpan nilai NMSE untuk setiap periode ulang\n",
    "nmse_by_period = {period: [] for period in periods_to_plot}\n",
    "\n",
    "# Populate dictionary dengan nilai NMSE sesuai periode ulang\n",
    "for result in data_to_visualize:\n",
    "    period = result[0]\n",
    "    if period in periods_to_plot:\n",
    "        nmse_by_period[period].append(result[2])\n",
    "\n",
    "# Buat boxplot\n",
    "fig, ax = plt.subplots()\n",
    "ax.boxplot(nmse_by_period.values(), labels=nmse_by_period.keys())#, showfliers=False)\n",
    "ax.set_xlabel('Return Period (Yr)')\n",
    "ax.set_ylabel('NMSE Mean')\n",
    "ax.set_title('Difference NMSE Mean (Simulasi A)')\n",
    "\n",
    "# Tampilkan plot\n",
    "plt.show()"
   ]
  },
  {
   "cell_type": "code",
   "execution_count": null,
   "id": "b69104ce-6f8c-4755-b743-0e26609a9f5e",
   "metadata": {},
   "outputs": [],
   "source": [
    "# #6. Eval experiment\n",
    "# mse_stas_gpm, mse_stas_predicted = eval_experiment(pu_gpm=pu_gpm, pu_predicted=pu_predicted, \n",
    "#                                                    pu_stas=y_val, config_class=config_class)\n",
    "\n",
    "# print(\"Evaluating Experiment.. DONE!\")"
   ]
  }
 ],
 "metadata": {
  "kernelspec": {
   "display_name": "Python 3 (ipykernel)",
   "language": "python",
   "name": "python3"
  },
  "language_info": {
   "codemirror_mode": {
    "name": "ipython",
    "version": 3
   },
   "file_extension": ".py",
   "mimetype": "text/x-python",
   "name": "python",
   "nbconvert_exporter": "python",
   "pygments_lexer": "ipython3",
   "version": "3.10.9"
  }
 },
 "nbformat": 4,
 "nbformat_minor": 5
}
