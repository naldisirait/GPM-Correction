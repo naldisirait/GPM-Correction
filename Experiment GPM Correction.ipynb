{
 "cells": [
  {
   "cell_type": "code",
   "execution_count": 11,
   "id": "0e173200-685a-4f15-8a3e-c005134fbb7e",
   "metadata": {},
   "outputs": [],
   "source": [
    "import numpy as np\n",
    "import pandas as pd\n",
    "import torch\n",
    "from utils.utils import read_json_file\n",
    "from source.data_ingest import load_dataset\n",
    "from source.configuration import Configuration\n",
    "from source.data_processing import process_data, cal_pu_gpm\n",
    "from source.building_data_loader import create_data_loader\n",
    "from source.model import create_model\n",
    "from source.train_model import train_model\n",
    "from source.evaluation import eval_experiment, inference_dl, Evaluation"
   ]
  },
  {
   "cell_type": "markdown",
   "id": "68c26382-c21f-4da9-90a7-cfe032ef5048",
   "metadata": {},
   "source": [
    "### 1. Read Data and Configuration"
   ]
  },
  {
   "cell_type": "code",
   "execution_count": 12,
   "id": "f148d602-db27-47dd-bb2d-a28808199b6c",
   "metadata": {},
   "outputs": [
    {
     "name": "stdout",
     "output_type": "stream",
     "text": [
      "0. Using device: cpu\n",
      "Loading Dataset DONE!\n"
     ]
    }
   ],
   "source": [
    "#0. Read configuration\n",
    "config = read_json_file(\"config.json\")\n",
    "config_class = Configuration(config)\n",
    "T = config_class.get_T()\n",
    "\n",
    "gpu_idx = config_class.get_gpu_index()\n",
    "device = torch.device(\"cpu\")\n",
    "print(f\"0. Using device: {device}\")\n",
    "\n",
    "batch_size = config_class.get_batch_size()\n",
    "#1. Open dataset\n",
    "ann_max_gpm, ann_max_stas, df_stasiun = load_dataset(config_class)\n",
    "print(\"Loading Dataset DONE!\")"
   ]
  },
  {
   "cell_type": "markdown",
   "id": "2161a1fd-21ea-44e3-8e06-6f56ca2a4d8f",
   "metadata": {},
   "source": [
    "Data yang digunakan:\n",
    "1. ann_max_gpm: data annual maxima gpm yang berbentuk \"Xarray Dataset\"\n",
    "2. ann_max_stas: data annual maxima pada setiap stasiun yang berbentuk \"Dictionary\". Nama Stasiun (Key) dan Nilai ann max CH (value)\n",
    "3. df_stasiun: data detail tentang setiap titik stasiun berbentuk \"Dataframe\". Features nya adalah Nama Stasiun, Elevasi, Jarak, Lintang, dan Bujur "
   ]
  },
  {
   "cell_type": "markdown",
   "id": "6e991a73-3d58-4853-968c-ee34dc2f5143",
   "metadata": {},
   "source": [
    "### 2. Data Processing"
   ]
  },
  {
   "cell_type": "code",
   "execution_count": 13,
   "id": "a7f499f9-c498-4df8-a6da-f91e1b1df0fe",
   "metadata": {},
   "outputs": [
    {
     "name": "stdout",
     "output_type": "stream",
     "text": [
      "torch.Size([81, 20, 3, 3]) torch.Size([81, 6, 1]) torch.Size([14, 20, 3, 3]) torch.Size([14, 6, 1])\n",
      "Processing Dataset DONE!\n"
     ]
    }
   ],
   "source": [
    "#2. Processing Dataset\n",
    "X_train, y_train, X_val, y_val = process_data(max_gpm=ann_max_gpm, \n",
    "                                              max_stas=ann_max_stas,\n",
    "                                              df_stas=df_stasiun,\n",
    "                                              config_class=config_class)\n",
    "pu_gpm = cal_pu_gpm(X_val,T)\n",
    " \n",
    "X_train = torch.tensor(X_train,dtype=torch.float32).to(device)\n",
    "y_train = torch.tensor(y_train,dtype=torch.float32).to(device)\n",
    "X_val = torch.tensor(X_val,dtype=torch.float32).to(device)\n",
    "y_val = torch.tensor(y_val,dtype=torch.float32).to(device)\n",
    "\n",
    "print(X_train.shape, y_train.shape, X_val.shape, y_val.shape)\n",
    "\n",
    "print(\"Processing Dataset DONE!\")"
   ]
  },
  {
   "cell_type": "markdown",
   "id": "50fd1c27-6324-4310-b244-d2edd44f39ef",
   "metadata": {},
   "source": [
    "### 3. Building Model and Data Loader"
   ]
  },
  {
   "cell_type": "code",
   "execution_count": 14,
   "id": "9bfe73b8-a779-446f-a279-2c7f1d8a0a0c",
   "metadata": {},
   "outputs": [
    {
     "name": "stdout",
     "output_type": "stream",
     "text": [
      "Creating Model.. DONE!\n"
     ]
    }
   ],
   "source": [
    "#3. Create Data Loader\n",
    "train_loader = create_data_loader(X=X_train, y=y_train, batch_size=batch_size, shuffle= True)\n",
    "val_loader = create_data_loader(X=X_val, y=y_val, batch_size=batch_size, shuffle= False)\n",
    "\n",
    "#4. Create Model\n",
    "model = create_model(config_class=config_class)\n",
    "\n",
    "print(\"Creating Model.. DONE!\")"
   ]
  },
  {
   "cell_type": "code",
   "execution_count": 15,
   "id": "79cd8372-506c-4cb6-b961-d44411e1aba4",
   "metadata": {},
   "outputs": [
    {
     "name": "stdout",
     "output_type": "stream",
     "text": [
      "RegCNN(\n",
      "  (conv1): Conv2d(20, 16, kernel_size=(2, 2), stride=(1, 1))\n",
      "  (conv2): Conv2d(16, 32, kernel_size=(2, 2), stride=(1, 1))\n",
      "  (pool): MaxPool2d(kernel_size=2, stride=2, padding=0, dilation=1, ceil_mode=False)\n",
      "  (fc1): Linear(in_features=32, out_features=128, bias=True)\n",
      "  (fc2): Linear(in_features=128, out_features=64, bias=True)\n",
      "  (fc3): Linear(in_features=64, out_features=6, bias=True)\n",
      ")\n"
     ]
    }
   ],
   "source": [
    "print(model)"
   ]
  },
  {
   "cell_type": "code",
   "execution_count": 16,
   "id": "a08222c1-4497-4928-9c2c-580de9190e35",
   "metadata": {
    "scrolled": true
   },
   "outputs": [
    {
     "name": "stdout",
     "output_type": "stream",
     "text": [
      "Epoch [1/30], Train Loss: 33192.1914, Eval Loss: 23267.291015625\n",
      "Epoch [2/30], Train Loss: 10789.6162, Eval Loss: 2941.08251953125\n",
      "Epoch [3/30], Train Loss: 1545.3115, Eval Loss: 2728.542236328125\n",
      "Epoch [4/30], Train Loss: 4749.4165, Eval Loss: 2561.2275390625\n",
      "Epoch [5/30], Train Loss: 742.5867, Eval Loss: 1127.8267822265625\n",
      "Epoch [6/30], Train Loss: 1874.7125, Eval Loss: 1785.406982421875\n",
      "Epoch [7/30], Train Loss: 1626.1996, Eval Loss: 1091.7708740234375\n",
      "Epoch [8/30], Train Loss: 377.0281, Eval Loss: 994.7647094726562\n",
      "Epoch [9/30], Train Loss: 58.5625, Eval Loss: 980.7899780273438\n",
      "Epoch [10/30], Train Loss: 260.0649, Eval Loss: 1117.962158203125\n",
      "Epoch [11/30], Train Loss: 2092.1831, Eval Loss: 984.4395751953125\n",
      "Epoch [12/30], Train Loss: 1284.2982, Eval Loss: 1084.0966796875\n",
      "Epoch [13/30], Train Loss: 200.3305, Eval Loss: 1082.0059814453125\n",
      "Epoch [14/30], Train Loss: 864.9008, Eval Loss: 1086.5885009765625\n",
      "Epoch [15/30], Train Loss: 1852.2081, Eval Loss: 1055.09912109375\n",
      "Epoch [16/30], Train Loss: 2802.9434, Eval Loss: 995.6571655273438\n",
      "Epoch [17/30], Train Loss: 1961.0660, Eval Loss: 1185.115234375\n",
      "Epoch [18/30], Train Loss: 3165.0725, Eval Loss: 1163.8629150390625\n",
      "Epoch [19/30], Train Loss: 1352.2358, Eval Loss: 1103.177490234375\n",
      "Epoch [20/30], Train Loss: 524.6694, Eval Loss: 1143.836181640625\n",
      "Epoch [21/30], Train Loss: 5056.6108, Eval Loss: 1099.408447265625\n",
      "Epoch [22/30], Train Loss: 182.0690, Eval Loss: 1042.004150390625\n",
      "Epoch [23/30], Train Loss: 1580.8898, Eval Loss: 989.289794921875\n",
      "Epoch [24/30], Train Loss: 128.2845, Eval Loss: 948.3751831054688\n",
      "Epoch [25/30], Train Loss: 8394.3760, Eval Loss: 1161.3470458984375\n",
      "Epoch [26/30], Train Loss: 3486.2344, Eval Loss: 997.20654296875\n",
      "Epoch [27/30], Train Loss: 27.5015, Eval Loss: 1773.37646484375\n",
      "Epoch [28/30], Train Loss: 32.3640, Eval Loss: 1486.5299072265625\n",
      "Epoch [29/30], Train Loss: 354.5660, Eval Loss: 939.6344604492188\n",
      "Epoch [30/30], Train Loss: 537.6443, Eval Loss: 1067.552490234375\n",
      "Training model.. DONE\n"
     ]
    }
   ],
   "source": [
    "#5. Train Model\n",
    "model, train_loss, eval_loss = train_model(config_class= config_class, model=model, train_loader=train_loader,\n",
    "                                           X_val=X_val, y_val=y_val, device=device)\n",
    "print(\"Training model.. DONE\")\n",
    "pu_predicted = inference_dl(model=model, X=X_val)"
   ]
  },
  {
   "cell_type": "code",
   "execution_count": 17,
   "id": "caa452bf-35a1-475f-9092-21be7fbb2cb2",
   "metadata": {
    "scrolled": true
   },
   "outputs": [
    {
     "data": {
      "text/plain": [
       "array([[127.181656, 162.78029 , 186.34967 , 216.12967 , 238.22217 ,\n",
       "        260.15152 ],\n",
       "       [ 96.5341  , 123.85648 , 141.94627 , 164.80278 , 181.75903 ,\n",
       "        198.59009 ],\n",
       "       [100.82792 , 123.35089 , 138.26306 , 157.10461 , 171.08237 ,\n",
       "        184.95691 ],\n",
       "       [101.12875 , 128.47421 , 146.5793  , 169.45511 , 186.4257  ,\n",
       "        203.27098 ],\n",
       "       [101.924355, 125.23868 , 140.67479 , 160.17834 , 174.6472  ,\n",
       "        189.00923 ],\n",
       "       [ 98.81805 , 124.15775 , 140.93484 , 162.13274 , 177.85855 ,\n",
       "        193.46825 ],\n",
       "       [119.621864, 168.89409 , 201.51659 , 242.7352  , 273.31354 ,\n",
       "        303.66608 ],\n",
       "       [ 87.19409 , 102.45357 , 112.55667 , 125.32197 , 134.79199 ,\n",
       "        144.1921  ],\n",
       "       [127.4857  , 158.98409 , 179.83876 , 206.18869 , 225.73659 ,\n",
       "        245.14012 ],\n",
       "       [135.59276 , 173.40492 , 198.43987 , 230.07158 , 253.5378  ,\n",
       "        276.83075 ],\n",
       "       [ 90.204575, 123.099884, 144.87944 , 172.39796 , 192.81277 ,\n",
       "        213.07686 ],\n",
       "       [128.00989 , 172.0599  , 201.22485 , 238.07484 , 265.41226 ,\n",
       "        292.54785 ],\n",
       "       [119.96785 , 178.81291 , 217.77347 , 267.00024 , 303.51947 ,\n",
       "        339.76904 ],\n",
       "       [126.34473 , 170.22308 , 199.27438 , 235.98077 , 263.21167 ,\n",
       "        290.2415  ]], dtype=float32)"
      ]
     },
     "execution_count": 17,
     "metadata": {},
     "output_type": "execute_result"
    }
   ],
   "source": [
    "y_val = y_val.view(len(y_val),-1)\n",
    "y_val = y_val.detach().numpy()\n",
    "y_val"
   ]
  },
  {
   "cell_type": "code",
   "execution_count": 18,
   "id": "be2d4156-1ed0-451f-8eb3-371d0dfbbfec",
   "metadata": {
    "scrolled": true
   },
   "outputs": [
    {
     "data": {
      "text/plain": [
       "array([[109.00395 , 139.35217 , 158.37428 , 184.09036 , 205.47139 ,\n",
       "        222.21768 ],\n",
       "       [ 97.20059 , 125.219696, 142.5634  , 165.71599 , 183.02477 ,\n",
       "        197.50354 ],\n",
       "       [ 91.56268 , 116.36508 , 133.71312 , 155.03345 , 172.99788 ,\n",
       "        185.65215 ],\n",
       "       [110.53283 , 142.12984 , 162.74782 , 189.20967 , 209.1407  ,\n",
       "        223.19131 ],\n",
       "       [ 90.22627 , 115.9955  , 131.43886 , 154.24959 , 172.28865 ,\n",
       "        183.89091 ],\n",
       "       [114.831985, 152.49231 , 171.88086 , 204.0429  , 222.91533 ,\n",
       "        242.19981 ],\n",
       "       [118.03749 , 149.33217 , 167.02245 , 196.71751 , 216.21362 ,\n",
       "        236.42319 ],\n",
       "       [ 84.71616 , 109.92989 , 124.91218 , 144.27356 , 160.8817  ,\n",
       "        172.25247 ],\n",
       "       [112.80264 , 141.10596 , 159.4855  , 185.25204 , 207.26141 ,\n",
       "        221.35689 ],\n",
       "       [106.89395 , 138.88165 , 160.16501 , 179.38512 , 206.01161 ,\n",
       "        217.17462 ],\n",
       "       [ 99.94656 , 128.39821 , 143.99495 , 166.27429 , 187.36562 ,\n",
       "        199.78589 ],\n",
       "       [147.80414 , 195.25774 , 213.11903 , 251.0206  , 274.9272  ,\n",
       "        292.58768 ],\n",
       "       [103.12277 , 133.35619 , 151.9145  , 174.66579 , 196.01723 ,\n",
       "        211.53296 ],\n",
       "       [130.80467 , 168.39513 , 192.52843 , 220.93402 , 247.01048 ,\n",
       "        262.59177 ]], dtype=float32)"
      ]
     },
     "execution_count": 18,
     "metadata": {},
     "output_type": "execute_result"
    }
   ],
   "source": [
    "pu_predicted = pu_predicted.detach().numpy()\n",
    "pu_predicted"
   ]
  },
  {
   "cell_type": "markdown",
   "id": "3acc7b23-b100-44dc-a496-474506a704a5",
   "metadata": {},
   "source": [
    "### 6. Evaluation "
   ]
  },
  {
   "cell_type": "code",
   "execution_count": 19,
   "id": "b084c13e-6b86-4410-a16b-e0da1182608f",
   "metadata": {},
   "outputs": [],
   "source": [
    "evaluation = Evaluation(model)\n",
    "nmse = []\n",
    "rmse = []\n",
    "for i in range(6):\n",
    "    nmse.append(evaluation.calculate_nmse_mean(pu_predicted[:,i],y_val[:,i]))\n",
    "    rmse.append(evaluation.calculate_rmse(pu_predicted[:,i],y_val[:,i]))"
   ]
  },
  {
   "cell_type": "code",
   "execution_count": 20,
   "id": "33009d00-4ff9-4274-aa78-29c3c1e4b5cf",
   "metadata": {},
   "outputs": [
    {
     "data": {
      "text/html": [
       "<div>\n",
       "<style scoped>\n",
       "    .dataframe tbody tr th:only-of-type {\n",
       "        vertical-align: middle;\n",
       "    }\n",
       "\n",
       "    .dataframe tbody tr th {\n",
       "        vertical-align: top;\n",
       "    }\n",
       "\n",
       "    .dataframe thead th {\n",
       "        text-align: right;\n",
       "    }\n",
       "</style>\n",
       "<table border=\"1\" class=\"dataframe\">\n",
       "  <thead>\n",
       "    <tr style=\"text-align: right;\">\n",
       "      <th></th>\n",
       "      <th>Periode Ulang</th>\n",
       "      <th>NMSE</th>\n",
       "      <th>RMSE</th>\n",
       "    </tr>\n",
       "  </thead>\n",
       "  <tbody>\n",
       "    <tr>\n",
       "      <th>0</th>\n",
       "      <td>2</td>\n",
       "      <td>0.125406</td>\n",
       "      <td>13.981305</td>\n",
       "    </tr>\n",
       "    <tr>\n",
       "      <th>1</th>\n",
       "      <td>5</td>\n",
       "      <td>0.145420</td>\n",
       "      <td>21.146109</td>\n",
       "    </tr>\n",
       "    <tr>\n",
       "      <th>2</th>\n",
       "      <td>10</td>\n",
       "      <td>0.158044</td>\n",
       "      <td>26.531616</td>\n",
       "    </tr>\n",
       "    <tr>\n",
       "      <th>3</th>\n",
       "      <td>25</td>\n",
       "      <td>0.180945</td>\n",
       "      <td>35.511459</td>\n",
       "    </tr>\n",
       "    <tr>\n",
       "      <th>4</th>\n",
       "      <td>50</td>\n",
       "      <td>0.182874</td>\n",
       "      <td>39.740311</td>\n",
       "    </tr>\n",
       "    <tr>\n",
       "      <th>5</th>\n",
       "      <td>100</td>\n",
       "      <td>0.197726</td>\n",
       "      <td>47.099865</td>\n",
       "    </tr>\n",
       "  </tbody>\n",
       "</table>\n",
       "</div>"
      ],
      "text/plain": [
       "   Periode Ulang      NMSE       RMSE\n",
       "0              2  0.125406  13.981305\n",
       "1              5  0.145420  21.146109\n",
       "2             10  0.158044  26.531616\n",
       "3             25  0.180945  35.511459\n",
       "4             50  0.182874  39.740311\n",
       "5            100  0.197726  47.099865"
      ]
     },
     "execution_count": 20,
     "metadata": {},
     "output_type": "execute_result"
    }
   ],
   "source": [
    "df_evaluation = pd.DataFrame(\n",
    "    {\"Periode Ulang\" : [2,5,10,25,50,100],\n",
    "     \"NMSE\" : nmse,\n",
    "     \"RMSE\" : rmse})\n",
    "df_evaluation"
   ]
  },
  {
   "cell_type": "code",
   "execution_count": 21,
   "id": "faedeabe-ce78-4092-963d-ed3d3f41adfa",
   "metadata": {},
   "outputs": [],
   "source": [
    "#df_evaluation.to_excel(\"RMSE dan NMSE GPM Correction CNN.xlsx\")"
   ]
  },
  {
   "cell_type": "code",
   "execution_count": 22,
   "id": "ad34ed9d-6921-4600-b6e3-ac22b65ddae8",
   "metadata": {},
   "outputs": [],
   "source": [
    "#torch.save(model, 'Reg Model CNN.pth')"
   ]
  },
  {
   "cell_type": "markdown",
   "id": "e5e4c9f9-0540-4f8c-869b-ebcaa375f3f1",
   "metadata": {},
   "source": [
    "### 7. Visualization"
   ]
  },
  {
   "cell_type": "code",
   "execution_count": null,
   "id": "9f9ac009-29ed-47aa-9451-06695172a833",
   "metadata": {},
   "outputs": [],
   "source": [
    "import matplotlib.pyplot as plt\n",
    "\n",
    "# Ganti nmse_all dengan nmse_all_before atau nmse_difference sesuai kebutuhan\n",
    "data_to_visualize = nmse_difference  # atau nmse_difference\n",
    "\n",
    "# Extract data for visualization\n",
    "periods_to_plot = [2, 5, 10, 25, 50, 100]\n",
    "\n",
    "# Inisialisasi dictionary untuk menyimpan nilai NMSE untuk setiap periode ulang\n",
    "nmse_by_period = {period: [] for period in periods_to_plot}\n",
    "\n",
    "# Populate dictionary dengan nilai NMSE sesuai periode ulang\n",
    "for result in data_to_visualize:\n",
    "    period = result[0]\n",
    "    if period in periods_to_plot:\n",
    "        nmse_by_period[period].append(result[2])\n",
    "\n",
    "# Buat boxplot\n",
    "fig, ax = plt.subplots()\n",
    "ax.boxplot(nmse_by_period.values(), labels=nmse_by_period.keys())#, showfliers=False)\n",
    "ax.set_xlabel('Return Period (Yr)')\n",
    "ax.set_ylabel('NMSE Mean')\n",
    "ax.set_title('Difference NMSE Mean (Simulasi A)')\n",
    "\n",
    "# Tampilkan plot\n",
    "plt.show()"
   ]
  },
  {
   "cell_type": "code",
   "execution_count": null,
   "id": "b69104ce-6f8c-4755-b743-0e26609a9f5e",
   "metadata": {},
   "outputs": [],
   "source": [
    "# #6. Eval experiment\n",
    "# mse_stas_gpm, mse_stas_predicted = eval_experiment(pu_gpm=pu_gpm, pu_predicted=pu_predicted, \n",
    "#                                                    pu_stas=y_val, config_class=config_class)\n",
    "\n",
    "# print(\"Evaluating Experiment.. DONE!\")"
   ]
  }
 ],
 "metadata": {
  "kernelspec": {
   "display_name": "Python 3 (ipykernel)",
   "language": "python",
   "name": "python3"
  },
  "language_info": {
   "codemirror_mode": {
    "name": "ipython",
    "version": 3
   },
   "file_extension": ".py",
   "mimetype": "text/x-python",
   "name": "python",
   "nbconvert_exporter": "python",
   "pygments_lexer": "ipython3",
   "version": "3.10.9"
  }
 },
 "nbformat": 4,
 "nbformat_minor": 5
}
