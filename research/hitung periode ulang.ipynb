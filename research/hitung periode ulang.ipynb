{
 "cells": [
  {
   "cell_type": "code",
   "execution_count": 1,
   "id": "714dd401-ef42-41ce-97c0-1e165f02f016",
   "metadata": {},
   "outputs": [],
   "source": [
    "import numpy as np\n",
    "import pandas as pd\n",
    "import xarray as xr\n",
    "from scipy import stats\n",
    "import pickle"
   ]
  },
  {
   "cell_type": "code",
   "execution_count": null,
   "id": "11b39a64-e77b-4efc-9c4f-a0b2e24e1b3e",
   "metadata": {},
   "outputs": [],
   "source": [
    "numbers = [12,3,6,1,7,234,7]\n",
    "def find_max_range(numbers):\n",
    "    "
   ]
  },
  {
   "cell_type": "code",
   "execution_count": 7,
   "id": "1f9975fa-fdcc-422a-8976-762c381ee07a",
   "metadata": {},
   "outputs": [],
   "source": [
    "def load_data(path: str):\n",
    "    \"\"\"\n",
    "    Function to load nc dataset\n",
    "    Args:\n",
    "        path: path to the dataset, includes filename\n",
    "    Returns:\n",
    "        dataset: a xarray dataset\n",
    "    \"\"\"\n",
    "    dataset = xr.open_dataset(path)\n",
    "    return dataset\n",
    "\n",
    "def return_period(data: np.ndarray ,T : int) -> float:\n",
    "    \"\"\"\n",
    "    Function to calculate return periode\n",
    "    Args:\n",
    "        Data: vector of annual max precipitation\n",
    "        T   : Return period number\n",
    "    \"\"\"\n",
    "    fit_distribution = stats.gumbel_r.fit(data)\n",
    "    return_period_value = stats.gumbel_r.ppf([1-(1/T)], * fit_distribution)\n",
    "    \n",
    "    return  return_period_value\n",
    "    \n",
    "def calculate_return_period(data, periods: np.ndarray) -> np.ndarray:\n",
    "    \"\"\"\n",
    "    Function to calculate return period of a matrix data\n",
    "    Args:\n",
    "        data: 3D matrix with shape(time, longitude, latitude)\n",
    "    \n",
    "    \"\"\"\n",
    "    t,x,y = data.shape\n",
    "    return_period_values = np.zeros((len(periods),x,y))\n",
    "\n",
    "    for i in range(x):\n",
    "        for j in range(y):\n",
    "            for n,T in enumerate(periods):\n",
    "                return_period_values[n,i,j] = return_period(data[:,i,j], T)\n",
    "                \n",
    "    return return_period_values\n",
    "\n",
    "\n",
    "#array to NC file\n",
    "def make_nc3D(data_array,periods,lat,lon,var_name,output_name):\n",
    "    #encode = {parameter: {\"zlib\":True, \"complevel\":9}}\n",
    "    dxr = xr.Dataset(\n",
    "    {\"{}\".format(var_name): ((\"time\",\"longitude\", \"latitude\"), data_array)},\n",
    "    coords={\n",
    "        \"period\" : periods,\n",
    "        \"longitude\": lon,\n",
    "        \"latitude\": lat,\n",
    "        })\n",
    "    dxr.to_netcdf(\"{}.nc\".format(output_name)) #,encoding = encode)"
   ]
  },
  {
   "cell_type": "markdown",
   "id": "10001665-fb64-43b1-9b98-8f7dca3db421",
   "metadata": {},
   "source": [
    "##### Hitung Periode Ulang stasiun"
   ]
  },
  {
   "cell_type": "code",
   "execution_count": 3,
   "id": "53211ea0-29d4-4f11-b306-899027fb74b8",
   "metadata": {},
   "outputs": [],
   "source": [
    "def save_pickle(data,output_name):\n",
    "    with open(output_name, 'wb') as file:\n",
    "        pickle.dump(data, file)\n",
    "\n",
    "def load_pickle(filename):\n",
    "    with open(filename, 'rb') as file:\n",
    "        # Use pickle.load() to deserialize and load the data\n",
    "        loaded_data = pickle.load(file)\n",
    "    return loaded_data"
   ]
  },
  {
   "cell_type": "code",
   "execution_count": 4,
   "id": "7d73b681-fb5e-4b6a-9617-bdcc7fdd73a5",
   "metadata": {},
   "outputs": [],
   "source": [
    "file_name = \"C:/Users/62812/Documents/Kerjaan Meteorologi/GPM-Correction/GPM-Correction/data/all_annual_max.pickle\"\n",
    "annual_max_stasiun = load_pickle(file_name)"
   ]
  },
  {
   "cell_type": "code",
   "execution_count": 5,
   "id": "c55edc9f-2828-48a5-953c-8a7336caab5e",
   "metadata": {
    "scrolled": true
   },
   "outputs": [
    {
     "name": "stdout",
     "output_type": "stream",
     "text": [
      "Stasiun Meteorologi Cut Nyak Dhien Nagan Raya : 11 tahun\n",
      "Stasiun Pemantau Atmosfer Global Bukit Koto Tabang : 8 tahun\n",
      "Stasiun Meteorologi Perak I : 11 tahun\n",
      "Stasiun Meteorologi Yuvai Semaring : 16 tahun\n",
      "Stasiun Meteorologi Fransiskus Xaverius Seda : 16 tahun\n",
      "Stasiun Meteorologi Gamar Malamo : 15 tahun\n",
      "Stasiun Meteorologi Wamena Jaya Wijaya : 19 tahun\n",
      "Stasiun Meteorologi Frans Kaisiepo : 19 tahun\n"
     ]
    }
   ],
   "source": [
    "for key,val in annual_max_stasiun.items():\n",
    "    if len(val) < 20:\n",
    "        print(key,\":\", len(val), \"tahun\")"
   ]
  },
  {
   "cell_type": "code",
   "execution_count": 6,
   "id": "5314f0d7-81c9-4f4b-b777-404c7686ba5b",
   "metadata": {
    "scrolled": true
   },
   "outputs": [
    {
     "name": "stdout",
     "output_type": "stream",
     "text": [
      "Stasiun Pemantau Atmosfer Global Bukit Koto Tabang\n",
      "Stasiun Meteorologi Raja Haji Fisabilillah\n",
      "Stasiun Meteorologi Yuvai Semaring\n",
      "Pos Pengamatan Kahang-Kahang\n",
      "Stasiun Meteorologi David Constatijn Saudale\n",
      "Stasiun Meteorologi Majene\n",
      "Stasiun Meteorologi Andi Jemma\n",
      "Stasiun Meteorologi Syukuran Aminudin Amir\n",
      "Stasiun Geofisika Manado\n",
      "Stasiun Meteorologi Mathilda Batlayeri\n",
      "Stasiun Meteorologi Wamena Jaya Wijaya\n",
      "Stasiun Meteorologi Enarotali\n"
     ]
    }
   ],
   "source": [
    "for key,val in annual_max_stasiun.items():\n",
    "    if np.isnan(np.max(val)):\n",
    "        print(key)"
   ]
  },
  {
   "cell_type": "code",
   "execution_count": 7,
   "id": "946df439-7db7-480e-92e8-d16e1e04f151",
   "metadata": {},
   "outputs": [],
   "source": [
    "def calculate_return_period_stations(annual_max,periods):\n",
    "    pu_stations = {}\n",
    "    for key,val in annual_max.items():\n",
    "        try:\n",
    "            return_period_T = []\n",
    "            for T in periods:\n",
    "                return_period_T.append(return_period(val,T)[0])\n",
    "            pu_stations[key] = return_period_T\n",
    "        except:\n",
    "            pass\n",
    "    return pu_stations"
   ]
  },
  {
   "cell_type": "code",
   "execution_count": 8,
   "id": "213e0e68-e472-43eb-aad8-4633330d2c40",
   "metadata": {},
   "outputs": [],
   "source": [
    "periods = np.arange(2,101)\n",
    "return_period_stations_indonesia = calculate_return_period_stations(annual_max_stasiun,periods)"
   ]
  },
  {
   "cell_type": "code",
   "execution_count": 9,
   "id": "bb3f6ce5-19ec-449b-b50b-48723db458c1",
   "metadata": {},
   "outputs": [],
   "source": [
    "save_pickle(return_period_stations_indonesia,\"Nilai Periode Ulang Stasiun Indonesia.pickle\")"
   ]
  },
  {
   "cell_type": "markdown",
   "id": "29e5381f-fee4-406b-b95c-781a2c137b59",
   "metadata": {},
   "source": [
    "##### Hitung Periode Ulang GPM"
   ]
  },
  {
   "cell_type": "code",
   "execution_count": 5,
   "id": "54592216-72f5-4572-81b9-6adb9786782c",
   "metadata": {},
   "outputs": [],
   "source": [
    "path = \"C:/Users/62812/Documents/Kerjaan Meteorologi/Data/annual max gpm.nc\""
   ]
  },
  {
   "cell_type": "code",
   "execution_count": 9,
   "id": "38c85c34-948d-4457-8d86-02b1a3016ba9",
   "metadata": {},
   "outputs": [
    {
     "name": "stdout",
     "output_type": "stream",
     "text": [
      "Runtime: 7259.39483499527\n"
     ]
    }
   ],
   "source": [
    "# import time\n",
    "\n",
    "# start = time.time()\n",
    "\n",
    "# dataset = load_data(path)\n",
    "# annual_max = dataset['__xarray_dataarray_variable__'].values\n",
    "# periods = np.arange(2,101)\n",
    "# pu_indo = calculate_return_period(annual_max, periods)\n",
    "\n",
    "# end = time.time()\n",
    "# print(f\"Runtime: {end - start}\")"
   ]
  },
  {
   "cell_type": "code",
   "execution_count": 10,
   "id": "418e4f12-b29a-4694-b8bd-2cafecb10863",
   "metadata": {},
   "outputs": [],
   "source": [
    "filename_output = \"Nilai Periode Ulang Indonesia\"\n",
    "latitude = dataset['latitude'].values\n",
    "longitude = dataset['longitude'].values\n",
    "var_name = \"periode_ulang\"\n",
    "\n",
    "make_nc3D(data_array = pu_indo,\n",
    "          periods = periods,\n",
    "          lat = latitude,\n",
    "          lon = longitude,\n",
    "          var_name = var_name,\n",
    "          output_name = filename_output)"
   ]
  },
  {
   "cell_type": "code",
   "execution_count": null,
   "id": "a00b17be-6e2d-4273-ac4a-7558d1d1d04b",
   "metadata": {},
   "outputs": [],
   "source": []
  }
 ],
 "metadata": {
  "kernelspec": {
   "display_name": "Python 3 (ipykernel)",
   "language": "python",
   "name": "python3"
  },
  "language_info": {
   "codemirror_mode": {
    "name": "ipython",
    "version": 3
   },
   "file_extension": ".py",
   "mimetype": "text/x-python",
   "name": "python",
   "nbconvert_exporter": "python",
   "pygments_lexer": "ipython3",
   "version": "3.10.9"
  }
 },
 "nbformat": 4,
 "nbformat_minor": 5
}
