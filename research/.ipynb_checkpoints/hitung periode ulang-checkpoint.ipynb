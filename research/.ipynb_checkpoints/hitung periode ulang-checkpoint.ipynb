{
 "cells": [
  {
   "cell_type": "code",
   "execution_count": 1,
   "id": "714dd401-ef42-41ce-97c0-1e165f02f016",
   "metadata": {},
   "outputs": [],
   "source": [
    "import numpy as np\n",
    "import pandas as pd\n",
    "import xarray as xr\n",
    "from scipy import stats\n",
    "import pickle"
   ]
  },
  {
   "cell_type": "code",
   "execution_count": 2,
   "id": "1f9975fa-fdcc-422a-8976-762c381ee07a",
   "metadata": {
    "jupyter": {
     "source_hidden": true
    }
   },
   "outputs": [],
   "source": [
    "def load_data(path: str):\n",
    "    \"\"\"\n",
    "    Function to load nc dataset\n",
    "    Args:\n",
    "        path: path to the dataset, includes filename\n",
    "    Returns:\n",
    "        dataset: a xarray dataset\n",
    "    \"\"\"\n",
    "    dataset = xr.open_dataset(path)\n",
    "    return dataset\n",
    "\n",
    "def return_period(data: np.ndarray ,T : int) -> float:\n",
    "    \"\"\"\n",
    "    Function to calculate return periode\n",
    "    Args:\n",
    "        Data: vector of annual max precipitation\n",
    "        T   : Return period number\n",
    "    \"\"\"\n",
    "    fit_distribution = stats.gumbel_r.fit(data)\n",
    "    return_period_value = stats.gumbel_r.ppf([1-(1/T)], * fit_distribution)\n",
    "    \n",
    "    return  return_period_value\n",
    "    \n",
    "def calculate_return_period(data, periods: np.ndarray) -> np.ndarray:\n",
    "    \"\"\"\n",
    "    Function to calculate return period of a matrix data\n",
    "    Args:\n",
    "        data: 3D matrix with shape(time, longitude, latitude)\n",
    "    \n",
    "    \"\"\"\n",
    "    t,x,y = data.shape\n",
    "    return_period_values = np.zeros((len(periods),x,y))\n",
    "\n",
    "    for i in range(x):\n",
    "        for j in range(y):\n",
    "            for n,T in enumerate(periods):\n",
    "                return_period_values[n,i,j] = return_period(data[:,i,j], T)\n",
    "                \n",
    "    return return_period_values\n",
    "\n",
    "\n",
    "#array to NC file\n",
    "def make_nc3D(data_array,periods,lat,lon,var_name,output_name):\n",
    "    #encode = {parameter: {\"zlib\":True, \"complevel\":9}}\n",
    "    dxr = xr.Dataset(\n",
    "    {\"{}\".format(var_name): ((\"time\",\"longitude\", \"latitude\"), data_array)},\n",
    "    coords={\n",
    "        \"period\" : periods,\n",
    "        \"longitude\": lon,\n",
    "        \"latitude\": lat,\n",
    "        })\n",
    "    dxr.to_netcdf(\"{}.nc\".format(output_name)) #,encoding = encode)"
   ]
  },
  {
   "cell_type": "markdown",
   "id": "10001665-fb64-43b1-9b98-8f7dca3db421",
   "metadata": {},
   "source": [
    "##### Hitung Periode Ulang stasiun"
   ]
  },
  {
   "cell_type": "code",
   "execution_count": 3,
   "id": "53211ea0-29d4-4f11-b306-899027fb74b8",
   "metadata": {},
   "outputs": [],
   "source": [
    "def save_pickle(data,output_name):\n",
    "    with open(output_name, 'wb') as file:\n",
    "        pickle.dump(data, file)\n",
    "\n",
    "def load_pickle(filename):\n",
    "    with open(filename, 'rb') as file:\n",
    "        # Use pickle.load() to deserialize and load the data\n",
    "        loaded_data = pickle.load(file)\n",
    "    return loaded_data"
   ]
  },
  {
   "cell_type": "code",
   "execution_count": 4,
   "id": "7d73b681-fb5e-4b6a-9617-bdcc7fdd73a5",
   "metadata": {},
   "outputs": [],
   "source": [
    "file_name = \"C:/Users/62812/Documents/Kerjaan Meteorologi/GPM-Correction/GPM-Correction/data/all_annual_max.pickle\"\n",
    "annual_max_stasiun = load_pickle(file_name)"
   ]
  },
  {
   "cell_type": "code",
   "execution_count": 5,
   "id": "c55edc9f-2828-48a5-953c-8a7336caab5e",
   "metadata": {
    "scrolled": true
   },
   "outputs": [
    {
     "name": "stdout",
     "output_type": "stream",
     "text": [
      "Stasiun Meteorologi Cut Nyak Dhien Nagan Raya : 11 tahun\n",
      "Stasiun Pemantau Atmosfer Global Bukit Koto Tabang : 8 tahun\n",
      "Stasiun Meteorologi Perak I : 11 tahun\n",
      "Stasiun Meteorologi Yuvai Semaring : 16 tahun\n",
      "Stasiun Meteorologi Fransiskus Xaverius Seda : 16 tahun\n",
      "Stasiun Meteorologi Gamar Malamo : 15 tahun\n",
      "Stasiun Meteorologi Wamena Jaya Wijaya : 19 tahun\n",
      "Stasiun Meteorologi Frans Kaisiepo : 19 tahun\n"
     ]
    }
   ],
   "source": [
    "for key,val in annual_max_stasiun.items():\n",
    "    if len(val) < 20:\n",
    "        print(key,\":\", len(val), \"tahun\")"
   ]
  },
  {
   "cell_type": "code",
   "execution_count": 6,
   "id": "5314f0d7-81c9-4f4b-b777-404c7686ba5b",
   "metadata": {
    "scrolled": true
   },
   "outputs": [
    {
     "name": "stdout",
     "output_type": "stream",
     "text": [
      "Stasiun Pemantau Atmosfer Global Bukit Koto Tabang\n",
      "Stasiun Meteorologi Raja Haji Fisabilillah\n",
      "Stasiun Meteorologi Yuvai Semaring\n",
      "Pos Pengamatan Kahang-Kahang\n",
      "Stasiun Meteorologi David Constatijn Saudale\n",
      "Stasiun Meteorologi Majene\n",
      "Stasiun Meteorologi Andi Jemma\n",
      "Stasiun Meteorologi Syukuran Aminudin Amir\n",
      "Stasiun Geofisika Manado\n",
      "Stasiun Meteorologi Mathilda Batlayeri\n",
      "Stasiun Meteorologi Wamena Jaya Wijaya\n",
      "Stasiun Meteorologi Enarotali\n"
     ]
    }
   ],
   "source": [
    "for key,val in annual_max_stasiun.items():\n",
    "    if np.isnan(np.max(val)):\n",
    "        print(key)"
   ]
  },
  {
   "cell_type": "code",
   "execution_count": 15,
   "id": "946df439-7db7-480e-92e8-d16e1e04f151",
   "metadata": {},
   "outputs": [],
   "source": [
    "def calculate_return_period_stations(annual_max,periods):\n",
    "    pu_stations = {}\n",
    "    for key,val in annual_max.items():\n",
    "        try:\n",
    "            return_period_T = []\n",
    "            for T in periods:\n",
    "                return_period_T.append(return_period(val,T))\n",
    "            pu_stations[key] = return_period_T\n",
    "        except:\n",
    "            pass\n",
    "    return pu_stations"
   ]
  },
  {
   "cell_type": "code",
   "execution_count": 16,
   "id": "213e0e68-e472-43eb-aad8-4633330d2c40",
   "metadata": {},
   "outputs": [
    {
     "ename": "NameError",
     "evalue": "name 'return_period' is not defined",
     "output_type": "error",
     "traceback": [
      "\u001b[1;31m---------------------------------------------------------------------------\u001b[0m",
      "\u001b[1;31mNameError\u001b[0m                                 Traceback (most recent call last)",
      "Cell \u001b[1;32mIn[16], line 2\u001b[0m\n\u001b[0;32m      1\u001b[0m periods \u001b[38;5;241m=\u001b[39m np\u001b[38;5;241m.\u001b[39marange(\u001b[38;5;241m2\u001b[39m,\u001b[38;5;241m101\u001b[39m)\n\u001b[1;32m----> 2\u001b[0m return_period_stations_indonesia \u001b[38;5;241m=\u001b[39m \u001b[43mcalculate_return_period_stations\u001b[49m\u001b[43m(\u001b[49m\u001b[43mannual_max_stasiun\u001b[49m\u001b[43m,\u001b[49m\u001b[43mperiods\u001b[49m\u001b[43m)\u001b[49m\n",
      "Cell \u001b[1;32mIn[15], line 6\u001b[0m, in \u001b[0;36mcalculate_return_period_stations\u001b[1;34m(annual_max, periods)\u001b[0m\n\u001b[0;32m      4\u001b[0m     return_period_T \u001b[38;5;241m=\u001b[39m []\n\u001b[0;32m      5\u001b[0m     \u001b[38;5;28;01mfor\u001b[39;00m T \u001b[38;5;129;01min\u001b[39;00m periods:\n\u001b[1;32m----> 6\u001b[0m         return_period_T\u001b[38;5;241m.\u001b[39mappend(\u001b[43mreturn_period\u001b[49m(val,T))\n\u001b[0;32m      7\u001b[0m     pu_stations[key] \u001b[38;5;241m=\u001b[39m return_period_T\n\u001b[0;32m      8\u001b[0m \u001b[38;5;28;01mreturn\u001b[39;00m pu_stations\n",
      "\u001b[1;31mNameError\u001b[0m: name 'return_period' is not defined"
     ]
    }
   ],
   "source": [
    "periods = np.arange(2,101)\n",
    "return_period_stations_indonesia = calculate_return_period_stations(annual_max_stasiun,periods)"
   ]
  },
  {
   "cell_type": "code",
   "execution_count": 17,
   "id": "6ab3d7e0-433e-4e0a-b24f-49d3daa4535e",
   "metadata": {},
   "outputs": [
    {
     "data": {
      "text/plain": [
       "{}"
      ]
     },
     "execution_count": 17,
     "metadata": {},
     "output_type": "execute_result"
    }
   ],
   "source": [
    "return_period_stations_indonesia"
   ]
  },
  {
   "cell_type": "markdown",
   "id": "29e5381f-fee4-406b-b95c-781a2c137b59",
   "metadata": {},
   "source": [
    "##### Hitung Periode Ulang GPM"
   ]
  },
  {
   "cell_type": "code",
   "execution_count": 21,
   "id": "54592216-72f5-4572-81b9-6adb9786782c",
   "metadata": {},
   "outputs": [],
   "source": [
    "path = \"C:/Users/62812/Documents/Kerjaan Meteorologi/Data/annual max gpm.nc\""
   ]
  },
  {
   "cell_type": "code",
   "execution_count": 9,
   "id": "38c85c34-948d-4457-8d86-02b1a3016ba9",
   "metadata": {},
   "outputs": [
    {
     "name": "stdout",
     "output_type": "stream",
     "text": [
      "Runtime: 7259.39483499527\n"
     ]
    }
   ],
   "source": [
    "# import time\n",
    "\n",
    "# start = time.time()\n",
    "\n",
    "# dataset = load_data(path)\n",
    "# annual_max = dataset['__xarray_dataarray_variable__'].values\n",
    "# periods = np.arange(2,101)\n",
    "# pu_indo = calculate_return_period(annual_max, periods)\n",
    "\n",
    "# end = time.time()\n",
    "# print(f\"Runtime: {end - start}\")"
   ]
  },
  {
   "cell_type": "code",
   "execution_count": 10,
   "id": "418e4f12-b29a-4694-b8bd-2cafecb10863",
   "metadata": {},
   "outputs": [],
   "source": [
    "filename_output = \"Nilai Periode Ulang Indonesia\"\n",
    "latitude = dataset['latitude'].values\n",
    "longitude = dataset['longitude'].values\n",
    "var_name = \"periode_ulang\"\n",
    "\n",
    "make_nc3D(data_array = pu_indo,\n",
    "          periods = periods,\n",
    "          lat = latitude,\n",
    "          lon = longitude,\n",
    "          var_name = var_name,\n",
    "          output_name = filename_output)"
   ]
  },
  {
   "cell_type": "code",
   "execution_count": null,
   "id": "a00b17be-6e2d-4273-ac4a-7558d1d1d04b",
   "metadata": {},
   "outputs": [],
   "source": []
  }
 ],
 "metadata": {
  "kernelspec": {
   "display_name": "Python 3 (ipykernel)",
   "language": "python",
   "name": "python3"
  },
  "language_info": {
   "codemirror_mode": {
    "name": "ipython",
    "version": 3
   },
   "file_extension": ".py",
   "mimetype": "text/x-python",
   "name": "python",
   "nbconvert_exporter": "python",
   "pygments_lexer": "ipython3",
   "version": "3.12.1"
  }
 },
 "nbformat": 4,
 "nbformat_minor": 5
}
