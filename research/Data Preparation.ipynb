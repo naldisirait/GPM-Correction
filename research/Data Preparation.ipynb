{
 "cells": [
  {
   "cell_type": "code",
   "execution_count": 2,
   "id": "6b4c2ba3-c617-4977-99ae-5c32ce2d1a9a",
   "metadata": {},
   "outputs": [],
   "source": [
    "x = np.ones((21,3,3))"
   ]
  },
  {
   "cell_type": "code",
   "execution_count": 5,
   "id": "8c7913ad-545b-4dd9-b52f-cae68229bc31",
   "metadata": {},
   "outputs": [
    {
     "data": {
      "text/plain": [
       "(21, 9)"
      ]
     },
     "execution_count": 5,
     "metadata": {},
     "output_type": "execute_result"
    }
   ],
   "source": [
    "x_rs = np.reshape(x, (21,-1))\n",
    "x_rs.shape"
   ]
  },
  {
   "cell_type": "code",
   "execution_count": 1,
   "id": "38398eea-7966-410e-a81a-f61ae4915535",
   "metadata": {},
   "outputs": [
    {
     "name": "stdout",
     "output_type": "stream",
     "text": [
      "[1 2 3 4 5 6]\n"
     ]
    }
   ],
   "source": [
    "import numpy as np\n",
    "\n",
    "# Create a multi-dimensional array\n",
    "arr = np.array([[1, 2, 3],\n",
    "                [4, 5, 6]])\n",
    "\n",
    "# Flatten the array\n",
    "flattened_arr = arr.flatten()\n",
    "\n",
    "print(flattened_arr)\n"
   ]
  },
  {
   "cell_type": "code",
   "execution_count": 1,
   "id": "04a806f9-4320-40c4-81ac-c06e929e2cad",
   "metadata": {},
   "outputs": [],
   "source": [
    "import numpy as np\n",
    "import pickle\n",
    "import pandas as pd\n",
    "import xarray as xr\n",
    "\n",
    "def save_pickle(data,output_name):\n",
    "    with open(output_name, 'wb') as file:\n",
    "        pickle.dump(data, file)\n",
    "\n",
    "def load_pickle(filename):\n",
    "    with open(filename, 'rb') as file:\n",
    "        # Use pickle.load() to deserialize and load the data\n",
    "        loaded_data = pickle.load(file)\n",
    "    return loaded_data\n",
    "\n",
    "def build_df_station(stasiun,elevasi,jarak,latitude,longitude,T,pu_gpm_station, pu_station):\n",
    "    df = pd.DataFrame({\"Nama Stasiun\":stasiun,\n",
    "      \"Elevasi\": elevasi,\n",
    "      \"Jarak\": jarak,\n",
    "      \"latitude\":latitude,\n",
    "      \"longitude\":longitude,\n",
    "      \"T\": T,\n",
    "      \"pu_gpm\":pu_gpm_station,\n",
    "      \"pu_station\": pu_station})\n",
    "    \n",
    "    return df\n",
    "\n",
    "def concat_df(df1,df2):\n",
    "    output = pd.concat([df1,df2], ignore_index = True)\n",
    "    return output\n",
    "\n",
    "def build_dataset(df_stations, pu_stations, pu_gpm_at_stations,coord_gpm_at_station):\n",
    "    df = 0\n",
    "    T = np.arange(2,101)\n",
    "    for n,station in enumerate(pu_stations):\n",
    "        feature_station =  df_stations[df_stations[\"Nama Stasiun\"] == station][[\"Elevasi\",\"Jarak\",\"Lintang\",\"Bujur\"]].values[0]\n",
    "        station_99 = [station]*len(T)\n",
    "        elevasi = [feature_station[0]]*len(T)\n",
    "        jarak = [feature_station[1]]*len(T)\n",
    "        latitude = [coord_gpm_at_station[station][0]]*len(T)\n",
    "        longitude = [coord_gpm_at_station[station][1]]*len(T)\n",
    "        pu_gpm_station = pu_gpm_at_stations[station]\n",
    "        pu_station = pu_stations[station]\n",
    "        #print(len(station_99),len(elevasi),len(jarak),len(latitude),len(longitude),len(pu_gpm_station),len(pu_station))\n",
    "        if n == 0:\n",
    "            df = build_df_station(station_99,elevasi,jarak,latitude,longitude,T,pu_gpm_station, pu_station)\n",
    "        else:\n",
    "            df_station = build_df_station(station_99,elevasi,jarak,latitude,longitude,T,pu_gpm_station, pu_station)\n",
    "            df = concat_df(df,df_station)\n",
    "    return df\n",
    "\n",
    "def get_index_coord(lats, lons, lat, lon):\n",
    "    lats1 = abs(lats - lat)\n",
    "    lons1 = abs(lons - lon)\n",
    "    \n",
    "    idx_lat = np.argmin(lats1)\n",
    "    idx_lon = np.argmin(lons1)\n",
    "\n",
    "    min_lats = lats[idx_lat]\n",
    "    min_lons = lons[idx_lon]\n",
    "    \n",
    "    return idx_lat,idx_lon, min_lats, min_lons\n",
    "    \n",
    "def get_pu_gpm_at_station(df_stations, pu_station, pu_gpm):\n",
    "    lats = pu_gpm['latitude'].values\n",
    "    lons = pu_gpm['longitude'].values\n",
    "    pu_gpm_val = pu_gpm['periode_ulang'].values\n",
    "    coord_gpm_at_station = {}\n",
    "    pu_gpm_at_station = {}\n",
    "    for station in pu_station:\n",
    "        latlon = df_stations[df_stations['Nama Stasiun'] == station][[\"Lintang\",\"Bujur\"]].values\n",
    "        lat,lon = latlon[0][0], latlon[0][1]\n",
    "        idx_lat, idx_lon, min_lat, min_lon = get_index_coord(lats, lons, lat, lon)\n",
    "        coord_gpm_at_station[station] = [min_lat, min_lon]\n",
    "        pu_gpm_at_station[station] = pu_gpm_val[:,idx_lon, idx_lat]\n",
    "    return pu_gpm_at_station,coord_gpm_at_station"
   ]
  },
  {
   "cell_type": "code",
   "execution_count": 3,
   "id": "d44f79b6-cbf1-4a1f-962e-d31c9d83652e",
   "metadata": {},
   "outputs": [],
   "source": [
    "df = pd.read_excel(\"C:/Users/62812/Documents/Kerjaan Meteorologi/GPM-Correction/GPM-Correction/data/elevasi_jarak_obs.xlsx\")\n",
    "pu_gpm_indonesia = xr.open_dataset(\"C:/Users/62812/Documents/Kerjaan Meteorologi/Periode Ulang/Nilai Periode Ulang Indonesia.nc\")\n",
    "pu_stasiun_indonesia = load_pickle(\"C:/Users/62812/Documents/Kerjaan Meteorologi/GPM-Correction/GPM-Correction/research/Nilai Periode Ulang Stasiun Indonesia.pickle\")"
   ]
  },
  {
   "cell_type": "code",
   "execution_count": 5,
   "id": "7f014d40-db72-4915-9b48-261e1e994e11",
   "metadata": {},
   "outputs": [],
   "source": [
    "pu_gpm_at_stations, coord_gpm_at_station = get_pu_gpm_at_station(df_stations = df, \n",
    "                                           pu_station = pu_stasiun_indonesia,\n",
    "                                           pu_gpm = pu_gpm_indonesia)"
   ]
  },
  {
   "cell_type": "code",
   "execution_count": 12,
   "id": "a58629d2-e094-4bd3-bdd4-694ad518009e",
   "metadata": {},
   "outputs": [],
   "source": [
    "dataset = build_dataset(df,pu_stasiun_indonesia,pu_gpm_at_stations, coord_gpm_at_station)"
   ]
  },
  {
   "cell_type": "markdown",
   "id": "28bdb5ab-4779-44eb-a27f-504a60a4772d",
   "metadata": {},
   "source": [
    "dataset.to_csv(\"clean dataset.csv\")"
   ]
  },
  {
   "cell_type": "markdown",
   "id": "432e4fe8-90a9-4b08-8a56-3b0ff3165353",
   "metadata": {},
   "source": [
    "## Data Preperation II"
   ]
  },
  {
   "cell_type": "code",
   "execution_count": 3,
   "id": "8085474c-adaa-48b2-a923-e2a88510fb95",
   "metadata": {},
   "outputs": [],
   "source": [
    "#read data\n",
    "df = pd.read_excel(\"C:/Users/62812/Documents/Kerjaan Meteorologi/GPM-Correction/GPM-Correction/data/elevasi_jarak_obs.xlsx\")\n",
    "path_ann_max_gpm = \"C:/Users/62812/Documents/Kerjaan Meteorologi/Data/annual max gpm.nc\"\n",
    "\n",
    "annual_max_gpm = xr.open_dataset(path_ann_max_gpm)\n",
    "lats = annual_max_gpm['latitude'].values\n",
    "lons = annual_max_gpm['longitude'].values\n",
    "\n",
    "ann_max_values = annual_max_gpm['__xarray_dataarray_variable__'].values\n",
    "arr_ann_max_gpm = ann_max_values[1:-1,:,:]"
   ]
  },
  {
   "cell_type": "code",
   "execution_count": 10,
   "id": "055a4b92-0197-4419-9c86-69fb8ecc7c05",
   "metadata": {},
   "outputs": [],
   "source": [
    "T = [2,5,10,25,50,100]\n",
    "idx_pu = []\n",
    "for n,i in enumerate(range(1,101)):\n",
    "    if i in T:\n",
    "        idx_pu.append(n-1)"
   ]
  },
  {
   "cell_type": "code",
   "execution_count": 11,
   "id": "2c13383c-2010-45c3-9d75-a89b914278f6",
   "metadata": {},
   "outputs": [],
   "source": [
    "#load periode ulang semua stasiun dan semua T\n",
    "pu_stasiun_indonesia = load_pickle(\"C:/Users/62812/Documents/Kerjaan Meteorologi/GPM-Correction/GPM-Correction/research/Nilai Periode Ulang Stasiun Indonesia.pickle\")\n",
    "\n",
    "#Ambil nilai periode ulang yang sesuai T saja\n",
    "pu_stasiun = {}\n",
    "for key,val in pu_stasiun_indonesia.items():\n",
    "    pu_stasiun[key] = np.array(val)[idx_pu]"
   ]
  },
  {
   "cell_type": "code",
   "execution_count": 12,
   "id": "7b0e5649-3b39-41a1-890e-9b37bd295f80",
   "metadata": {},
   "outputs": [],
   "source": [
    "def get_ann_max_gpm_at_station(df_stations, pu_station, ann_max_gpm, lats, lons):\n",
    "    coord_gpm_at_station = {}\n",
    "    ann_max_gpm_at_stasiun = {}\n",
    "    for station in pu_station:\n",
    "        latlon = df_stations[df_stations['Nama Stasiun'] == station][[\"Lintang\",\"Bujur\"]].values\n",
    "        lat,lon = latlon[0][0], latlon[0][1]\n",
    "        idx_lat, idx_lon, min_lat, min_lon = get_index_coord(lats, lons, lat, lon)\n",
    "        coord_gpm_at_station[station] = [min_lat, min_lon]\n",
    "        ann_max_gpm_at_stasiun[station] = ann_max_gpm[:,idx_lon, idx_lat]\n",
    "    return ann_max_gpm_at_stasiun,coord_gpm_at_station"
   ]
  },
  {
   "cell_type": "code",
   "execution_count": 13,
   "id": "be22b7be-702b-47a9-8a45-2d87056fb3ce",
   "metadata": {},
   "outputs": [],
   "source": [
    "ann_max_gpm_at_stasiun,coord_gpm_at_station = get_ann_max_gpm_at_station(df, pu_stasiun, arr_ann_max_gpm, lats, lons)"
   ]
  },
  {
   "cell_type": "code",
   "execution_count": 14,
   "id": "779a5a18-bd99-4ce4-9eba-833ccdd131da",
   "metadata": {},
   "outputs": [],
   "source": [
    "output_dataset = {}\n",
    "for stasiun in pu_stasiun:\n",
    "    output_dataset[stasiun] = (ann_max_gpm_at_stasiun[stasiun], pu_stasiun[stasiun])"
   ]
  },
  {
   "cell_type": "code",
   "execution_count": 35,
   "id": "ba5d9b72-1cb1-4b8f-a24c-caaf1a3b7e89",
   "metadata": {},
   "outputs": [],
   "source": [
    "#save_pickle(data = output_dataset, output_name = \"Dataset Approach 2.pkl\")"
   ]
  },
  {
   "cell_type": "markdown",
   "id": "ffeb984d-6e9f-4244-87c3-d4489b2659af",
   "metadata": {},
   "source": [
    "### Data Preparation 3"
   ]
  },
  {
   "cell_type": "code",
   "execution_count": 2,
   "id": "07818419-f971-4f32-bb9a-f6d967631174",
   "metadata": {},
   "outputs": [],
   "source": [
    "#read data\n",
    "df = pd.read_excel(\"C:/Users/62812/Documents/Kerjaan Meteorologi/GPM-Correction/GPM-Correction/data/elevasi_jarak_obs.xlsx\")\n",
    "path_ann_max_gpm = \"C:/Users/62812/Documents/Kerjaan Meteorologi/Data/annual max gpm.nc\"\n",
    "\n",
    "annual_max_gpm = xr.open_dataset(path_ann_max_gpm)\n",
    "lats = annual_max_gpm['latitude'].values\n",
    "lons = annual_max_gpm['longitude'].values\n",
    "\n",
    "ann_max_values = annual_max_gpm['__xarray_dataarray_variable__'].values\n",
    "arr_ann_max_gpm = ann_max_values[1:-1,:,:]"
   ]
  },
  {
   "cell_type": "code",
   "execution_count": 3,
   "id": "afd90f18-c9c1-45ad-b78a-9a55c207a513",
   "metadata": {},
   "outputs": [],
   "source": [
    "def get_ann_max_grid_gpm_at_station(df_stations, pu_station, ann_max_gpm, lats, lons, number_of_grid):\n",
    "    coord_gpm_at_station = {}\n",
    "    ann_max_gpm_at_stasiun = {}\n",
    "    for station in pu_station:\n",
    "        latlon = df_stations[df_stations['Nama Stasiun'] == station][[\"Lintang\",\"Bujur\"]].values\n",
    "        lat,lon = latlon[0][0], latlon[0][1]\n",
    "        idx_lat, idx_lon, min_lat, min_lon = get_index_coord(lats, lons, lat, lon)\n",
    "        coord_gpm_at_station[station] = [min_lat, min_lon]\n",
    "        idx_lon_start, idx_lon_end = idx_lon - (int(number_of_grid/2)), idx_lon + (int(number_of_grid/2)+1)\n",
    "        idx_lat_start, idx_lat_end = idx_lat - (int(number_of_grid/2)), idx_lat + (int(number_of_grid/2)+1)\n",
    "        ann_max_gpm_at_stasiun[station] = ann_max_gpm[:,idx_lon_start:idx_lon_end, idx_lat_start:idx_lat_end]\n",
    "    return ann_max_gpm_at_stasiun,coord_gpm_at_station"
   ]
  },
  {
   "cell_type": "code",
   "execution_count": 4,
   "id": "f9a102b5-c0db-4ad5-9b4e-eb94c681dea3",
   "metadata": {},
   "outputs": [
    {
     "ename": "NameError",
     "evalue": "name 'pu_stasiun' is not defined",
     "output_type": "error",
     "traceback": [
      "\u001b[1;31m---------------------------------------------------------------------------\u001b[0m",
      "\u001b[1;31mNameError\u001b[0m                                 Traceback (most recent call last)",
      "Cell \u001b[1;32mIn[4], line 1\u001b[0m\n\u001b[1;32m----> 1\u001b[0m ann_max_gpm_at_stasiun,coord_gpm_at_station \u001b[38;5;241m=\u001b[39m get_ann_max_grid_gpm_at_station(df, \u001b[43mpu_stasiun\u001b[49m, arr_ann_max_gpm, lats, lons,\u001b[38;5;241m3\u001b[39m)\n",
      "\u001b[1;31mNameError\u001b[0m: name 'pu_stasiun' is not defined"
     ]
    }
   ],
   "source": [
    "ann_max_gpm_at_stasiun,coord_gpm_at_station = get_ann_max_grid_gpm_at_station(df, pu_stasiun, arr_ann_max_gpm, lats, lons, 3)"
   ]
  },
  {
   "cell_type": "code",
   "execution_count": null,
   "id": "76be53a2-eba9-4b52-a0af-2c3823630d04",
   "metadata": {},
   "outputs": [],
   "source": [
    "dataset3 = {}\n",
    "for key,val in pu_stasiun.items():\n",
    "    dataset3[key] = (ann_max_gpm_at_stasiun[key],pu_stasiun[key])"
   ]
  },
  {
   "cell_type": "code",
   "execution_count": 25,
   "id": "07fa666a-f0e7-420d-ac3c-3ed03e33de72",
   "metadata": {},
   "outputs": [],
   "source": [
    "save_pickle(data = dataset3, output_name = \"Dataset Approach 3.pkl\")"
   ]
  },
  {
   "cell_type": "code",
   "execution_count": 5,
   "id": "861762df-5ed9-46bf-9d74-442b90c72f4f",
   "metadata": {},
   "outputs": [],
   "source": [
    "data3 = load_pickle(\"Dataset Approach 3.pkl\")"
   ]
  },
  {
   "cell_type": "code",
   "execution_count": 6,
   "id": "8ec87792-4d4a-4efc-b235-ef08f8e7fcc3",
   "metadata": {
    "scrolled": true
   },
   "outputs": [
    {
     "name": "stdout",
     "output_type": "stream",
     "text": [
      "Stasiun Klimatologi Aceh Besar <class 'tuple'>\n",
      "Stasiun Meteorologi Cut Nyak Dhien Nagan Raya <class 'tuple'>\n",
      "Stasiun Meteorologi Malikussaleh <class 'tuple'>\n",
      "Stasiun Meteorologi Sultan Iskandar Muda <class 'tuple'>\n",
      "Stasiun Geofisika Deli Serdang <class 'tuple'>\n",
      "Stasiun Klimatologi Deli Serdang <class 'tuple'>\n",
      "Stasiun Meteorologi Binaka <class 'tuple'>\n",
      "Stasiun Meteorologi FL Tobing <class 'tuple'>\n",
      "Stasiun Meteorologi Kualanamu <class 'tuple'>\n",
      "Stasiun Geofisika Padang Panjang <class 'tuple'>\n",
      "Stasiun Klimatologi Padang Pariaman <class 'tuple'>\n",
      "Stasiun Meteorologi Maritim Teluk Bayur <class 'tuple'>\n",
      "Stasiun Meteorologi Minangkabau <class 'tuple'>\n",
      "Stasiun Meteorologi Japura <class 'tuple'>\n",
      "Stasiun Meteorologi Dabo <class 'tuple'>\n",
      "Stasiun Meteorologi Hang Nadim <class 'tuple'>\n",
      "Stasiun Meteorologi Tarempa <class 'tuple'>\n",
      "Stasiun Klimatologi Muaro Jambi <class 'tuple'>\n",
      "Stasiun Meteorologi Depati Parbo <class 'tuple'>\n",
      "Stasiun Meteorologi Sultan Thaha <class 'tuple'>\n",
      "Stasiun Klimatologi Bengkulu <class 'tuple'>\n",
      "Stasiun Meteorologi Fatmawati Soekarno <class 'tuple'>\n",
      "Stasiun Meteorologi Depati Amir <class 'tuple'>\n",
      "Stasiun Klimatologi Palembang <class 'tuple'>\n",
      "Stasiun Meteorologi Sultan Mahmud Badaruddin II <class 'tuple'>\n",
      "Stasiun Klimatologi Pesawaran <class 'tuple'>\n",
      "Stasiun Meteorologi Maritim Panjang <class 'tuple'>\n",
      "Stasiun Meteorologi Radin Inten II <class 'tuple'>\n",
      "Stasiun Geofisika Bandung <class 'tuple'>\n",
      "Stasiun Klimatologi Bogor <class 'tuple'>\n",
      "Stasiun Meteorologi Citeko <class 'tuple'>\n",
      "Stasiun Meteorologi Kertajati <class 'tuple'>\n",
      "Stasiun Meteorologi Maritim Tanjung Emas <class 'tuple'>\n",
      "Stasiun Meteorologi Tegal <class 'tuple'>\n",
      "Stasiun Meteorologi Tunggul Wulung <class 'tuple'>\n",
      "Stasiun Klimatologi Tangerang Selatan <class 'tuple'>\n",
      "Stasiun Meteorologi Budiarto <class 'tuple'>\n",
      "Stasiun Meteorologi Soekarno Hatta <class 'tuple'>\n",
      "Stasiun Meteorologi Kemayoran <class 'tuple'>\n",
      "Stasiun Meteorologi Maritim Tanjung Priok <class 'tuple'>\n",
      "Stasiun Geofisika Nganjuk <class 'tuple'>\n",
      "Stasiun Geofisika Pasuruan <class 'tuple'>\n",
      "Stasiun Klimatologi Malang <class 'tuple'>\n",
      "Stasiun Meteorologi Banyuwangi <class 'tuple'>\n",
      "Stasiun Meteorologi Juanda <class 'tuple'>\n",
      "Stasiun Meteorologi Kalianget <class 'tuple'>\n",
      "Stasiun Meteorologi Maritim Tanjung Perak <class 'tuple'>\n",
      "Stasiun Meteorologi Perak I <class 'tuple'>\n",
      "Stasiun Meteorologi Sangkapura <class 'tuple'>\n",
      "Stasiun Klimatologi Mempawah <class 'tuple'>\n",
      "Stasiun Meteorologi Nangapinoh <class 'tuple'>\n",
      "Stasiun Meteorologi Paloh <class 'tuple'>\n",
      "Stasiun Meteorologi Pangsuma <class 'tuple'>\n",
      "Stasiun Meteorologi Rahadi Oesman <class 'tuple'>\n",
      "Stasiun Meteorologi Susilo <class 'tuple'>\n",
      "Stasiun Meteorologi Supadio <class 'tuple'>\n",
      "Stasiun Meteorologi Gusti Syamsir Alam <class 'tuple'>\n",
      "Stasiun Meteorologi Syamsudin Noor <class 'tuple'>\n",
      "Stasiun Meteorologi Beringin <class 'tuple'>\n",
      "Stasiun Meteorologi H. Asan <class 'tuple'>\n",
      "Stasiun Meteorologi Iskandar <class 'tuple'>\n",
      "Stasiun Meteorologi Tjilik Riwut <class 'tuple'>\n",
      "Stasiun Meteorologi Sultan Aji Muhammad Sulaiman Sepinggan <class 'tuple'>\n",
      "Stasiun Meteorologi Temindung <class 'tuple'>\n",
      "Stasiun Meteorologi Juwata <class 'tuple'>\n",
      "Stasiun Meteorologi Tanjung Harapan <class 'tuple'>\n",
      "Stasiun Klimatologi Jembrana <class 'tuple'>\n",
      "Stasiun Meteorologi I Gusti Ngurah Rai <class 'tuple'>\n",
      "Stasiun Klimatologi Lombok Barat <class 'tuple'>\n",
      "Stasiun Meteorologi Sultan Muhammad Kaharuddin <class 'tuple'>\n",
      "Stasiun Meteorologi Zainuddin Abdul Madjid <class 'tuple'>\n",
      "Stasiun Meteorologi Sultan Muhammad Salahuddin <class 'tuple'>\n",
      "Stasiun Meteorologi Eltari <class 'tuple'>\n",
      "Stasiun Meteorologi Frans Sales Lega <class 'tuple'>\n",
      "Stasiun Meteorologi Fransiskus Xaverius Seda <class 'tuple'>\n",
      "Stasiun Meteorologi Gewayantana <class 'tuple'>\n",
      "Stasiun Meteorologi Tardamu <class 'tuple'>\n",
      "Stasiun Meteorologi Umbu Mehang Kunda <class 'tuple'>\n",
      "Stasiun Meteorologi Djalaluddin <class 'tuple'>\n",
      "Stasiun Meteorologi Sultan Hasanuddin <class 'tuple'>\n",
      "Stasiun Klimatologi Maros <class 'tuple'>\n",
      "Stasiun Meteorologi Pongtiku <class 'tuple'>\n",
      "Stasiun Meteorologi Kasiguncu <class 'tuple'>\n",
      "Stasiun Meteorologi Mutiara Sis-Al Jufri <class 'tuple'>\n",
      "Stasiun Meteorologi Naha <class 'tuple'>\n",
      "Stasiun Klimatologi Minahasa Utara <class 'tuple'>\n",
      "Stasiun Meteorologi Maritim Bitung <class 'tuple'>\n",
      "Stasiun Meteorologi Sangia Ni Bandera <class 'tuple'>\n",
      "Stasiun Meteorologi Maritim Kendari <class 'tuple'>\n",
      "Stasiun Meteorologi Amahai <class 'tuple'>\n",
      "Stasiun Meteorologi Bandaneira <class 'tuple'>\n",
      "Stasiun Meteorologi Namlea <class 'tuple'>\n",
      "Stasiun Meteorologi Geser <class 'tuple'>\n",
      "Stasiun Klimatologi Seram Bagian Barat <class 'tuple'>\n",
      "Stasiun Meteorologi Pattimura <class 'tuple'>\n",
      "Stasiun Meteorologi Gamar Malamo <class 'tuple'>\n",
      "Stasiun Meteorologi Oesman Sadik <class 'tuple'>\n",
      "Stasiun Meteorologi Emalamo <class 'tuple'>\n",
      "Stasiun Meteorologi Sultan Babullah <class 'tuple'>\n",
      "Stasiun Meteorologi Mopah <class 'tuple'>\n",
      "Stasiun Meteorologi Sentani <class 'tuple'>\n",
      "Stasiun Meteorologi Moanamani <class 'tuple'>\n",
      "Stasiun Meteorologi Sudjarwo Tjondro Negoro <class 'tuple'>\n",
      "Stasiun Meteorologi Frans Kaisiepo <class 'tuple'>\n",
      "Stasiun Meteorologi Mozez Kilangin <class 'tuple'>\n",
      "Stasiun Meteorologi Dok II Jayapura <class 'tuple'>\n",
      "Stasiun Meteorologi Tanah Merah <class 'tuple'>\n",
      "Stasiun Meteorologi Domine Eduard Osok <class 'tuple'>\n"
     ]
    }
   ],
   "source": [
    "for key,val in data3.items():\n",
    "    print(key, type(val))"
   ]
  },
  {
   "cell_type": "code",
   "execution_count": 9,
   "id": "22dad4ce-c7fa-4c80-94a5-30b78798eaf5",
   "metadata": {},
   "outputs": [
    {
     "data": {
      "text/plain": [
       "(20, 3, 3)"
      ]
     },
     "execution_count": 9,
     "metadata": {},
     "output_type": "execute_result"
    }
   ],
   "source": [
    "val[0].shape"
   ]
  },
  {
   "cell_type": "code",
   "execution_count": 10,
   "id": "bfd48175-ae04-4e61-bd93-ce5bca5e3083",
   "metadata": {},
   "outputs": [
    {
     "data": {
      "text/plain": [
       "(6,)"
      ]
     },
     "execution_count": 10,
     "metadata": {},
     "output_type": "execute_result"
    }
   ],
   "source": [
    "val[1].shape"
   ]
  }
 ],
 "metadata": {
  "kernelspec": {
   "display_name": "Python 3 (ipykernel)",
   "language": "python",
   "name": "python3"
  },
  "language_info": {
   "codemirror_mode": {
    "name": "ipython",
    "version": 3
   },
   "file_extension": ".py",
   "mimetype": "text/x-python",
   "name": "python",
   "nbconvert_exporter": "python",
   "pygments_lexer": "ipython3",
   "version": "3.10.9"
  }
 },
 "nbformat": 4,
 "nbformat_minor": 5
}
