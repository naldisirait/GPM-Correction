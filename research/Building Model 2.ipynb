{
 "cells": [
  {
   "cell_type": "code",
   "execution_count": 4,
   "id": "9b20dea8-6566-4968-bf0f-c4bc2189bf9b",
   "metadata": {},
   "outputs": [],
   "source": [
    "# Training the model parameters\n",
    "skema_test = 2\n",
    "batch_size = 16\n",
    "learning_rate = 0.001\n",
    "num_epochs = 120\n",
    "lambda_ = 0.001\n",
    "T = [2,5,10,25,50,100]"
   ]
  },
  {
   "cell_type": "code",
   "execution_count": 5,
   "id": "465010a8-00a2-432a-b01d-96adc1ef8c96",
   "metadata": {},
   "outputs": [],
   "source": [
    "import pandas as pd\n",
    "import pickle\n",
    "import numpy as np\n",
    "from scipy import stats\n",
    "import torch\n",
    "import torch.nn as nn\n",
    "import torch.optim as optim\n",
    "from torch.utils.data import DataLoader, TensorDataset\n",
    "from sklearn.model_selection import train_test_split\n",
    "from sklearn.preprocessing import StandardScaler\n",
    "\n",
    "def load_pickle(filename):\n",
    "    with open(filename, 'rb') as file:\n",
    "        # Use pickle.load() to deserialize and load the data\n",
    "        loaded_data = pickle.load(file)\n",
    "    return loaded_data\n",
    "\n",
    "def seperate_input_output(dataset):\n",
    "    X,y = [],[]\n",
    "    for key,val in dataset.items():\n",
    "        X.append(val[0])\n",
    "        y.append(val[1])\n",
    "    return np.array(X),np.array(y)\n",
    "    \n",
    "def process_dataset(dataset,validation_stasiun_name):\n",
    "    val_dataset = {}\n",
    "    train_dataset = {}\n",
    "    for key, val in dataset.items():\n",
    "        if key in validation_stasiun_name:\n",
    "            val_dataset[key] = dataset[key]\n",
    "        else:\n",
    "            train_dataset[key] = dataset[key]\n",
    "    X_train, y_train = seperate_input_output(train_dataset)\n",
    "    X_val, y_val = seperate_input_output(val_dataset)\n",
    "    return X_train, y_train, X_val, y_val\n",
    "\n",
    "def return_period(data: np.ndarray ,T : int) -> float:\n",
    "    \"\"\"\n",
    "    Function to calculate return periode\n",
    "    Args:\n",
    "        Data: vector of annual max precipitation\n",
    "        T   : Return period number\n",
    "    \"\"\"\n",
    "    fit_distribution = stats.gumbel_r.fit(data)\n",
    "    return_period_value = stats.gumbel_r.ppf([1-(1/T)], *fit_distribution)\n",
    "    \n",
    "    return  return_period_value\n",
    "\n",
    "def cal_fit_distribution(data):\n",
    "    \"\"\"\n",
    "    Function to calculate the parameter by fitting the data into gumbel distribution\n",
    "    Args:\n",
    "        data: annual max precipitation\n",
    "    returns:\n",
    "        fit_distribution: parameter of fitted distribution\n",
    "    \"\"\"\n",
    "    fit_distribution = stats.gumbel_r.fit(data)\n",
    "    return fit_distribution"
   ]
  },
  {
   "cell_type": "code",
   "execution_count": 6,
   "id": "4ef9a16f-d29a-4418-82ea-8b3990ae3944",
   "metadata": {},
   "outputs": [],
   "source": [
    "# Open dataset\n",
    "import random\n",
    "\n",
    "dataset = load_pickle(\"Dataset Approach 2.pkl\")\n",
    "data1 = pd.read_excel(f\"C:/Users/62812/Documents/Kerjaan Meteorologi/GPM-Correction/GPM-Correction/data/Skema Testing {skema_test}.xlsx\")\n",
    "stasiun_test = list(data1['Nama Stasiun'].unique())\n",
    "#stasiun_test = random.sample(stasiun_test, 10)\n",
    "\n",
    "pu_gpm_raw = {} # pu_gpm_raw is a combination of pu_gpm_test and pu_gpm_train\n",
    "pu_gpm_test = {}\n",
    "pu_gpm_train = {}\n",
    "for key,val in dataset.items():\n",
    "    pu = []\n",
    "    for t in T:\n",
    "        pu.append(return_period(data= val[0], T = t))\n",
    "    pu = np.reshape(np.array(pu),-1)\n",
    "    pu_gpm_raw[key] = pu\n",
    "    if key in stasiun_test:\n",
    "        pu_gpm_test[key] = pu\n",
    "    else:\n",
    "        pu_gpm_train[key] = pu\n",
    "\n",
    "X_train, y_train, X_val, y_val = process_dataset(dataset= dataset, validation_stasiun_name = stasiun_test)\n",
    "\n",
    "X_train_tensor = torch.FloatTensor(X_train)\n",
    "X_val_tensor = torch.FloatTensor(X_val)\n",
    "y_val_tensor = torch.FloatTensor(y_val)\n",
    "y_train_tensor = torch.FloatTensor(y_train)"
   ]
  },
  {
   "cell_type": "markdown",
   "id": "a5293de1-8a6d-4530-8981-d3c79594765f",
   "metadata": {},
   "source": [
    "## Building Data Loader"
   ]
  },
  {
   "cell_type": "code",
   "execution_count": 5,
   "id": "9b150b7c-03fa-4c32-95ec-3f6324dd5c9d",
   "metadata": {},
   "outputs": [],
   "source": [
    "import torch\n",
    "from torch.utils.data import DataLoader, Dataset\n",
    "\n",
    "class CustomDataset(Dataset):\n",
    "    def __init__(self, X, y):\n",
    "        self.X = X\n",
    "        self.y = y\n",
    "        \n",
    "    def __len__(self):\n",
    "        return len(self.y)\n",
    "\n",
    "    def __getitem__(self, idx):\n",
    "        X_sample = self.X[idx]\n",
    "        y_sample = self.y[idx]\n",
    "        \n",
    "        return X_sample, y_sample\n",
    "    \n",
    "def create_data_loader(X: torch.tensor,\n",
    "                       y: torch.tensor,\n",
    "                       batch_size: int,\n",
    "                       shuffle: bool):\n",
    "    \"\"\"\n",
    "    Function to create data laoder\n",
    "    Args:\n",
    "        X: an array of the first tropical cyclone sequence \n",
    "        y: an array of the tropical cyclone sequence after X\n",
    "        batch_size: batch size \n",
    "        shuffle: suffle the data while training, make it false when creating data loader for validation\n",
    "    Returns:\n",
    "        data_loader: data loader \n",
    "    \n",
    "    \"\"\"\n",
    "    custom_dataset = CustomDataset(X, y)    \n",
    "    data_loader = DataLoader(custom_dataset, batch_size=batch_size, shuffle=shuffle)\n",
    "    return data_loader"
   ]
  },
  {
   "cell_type": "code",
   "execution_count": 6,
   "id": "e94c913f-4226-4ec9-942d-04aaa94f2a6f",
   "metadata": {},
   "outputs": [],
   "source": [
    "train_loader = create_data_loader(X = X_train_tensor, y = y_train_tensor, batch_size = batch_size, shuffle = True)\n",
    "val_loader = create_data_loader(X = X_val_tensor, y = y_val_tensor, batch_size = batch_size, shuffle = False)"
   ]
  },
  {
   "cell_type": "markdown",
   "id": "d4bafa6c-67e9-4692-b73c-a0f05ac5e742",
   "metadata": {},
   "source": [
    "#### Create Model"
   ]
  },
  {
   "cell_type": "code",
   "execution_count": 7,
   "id": "84caa86b-650e-4b3b-9cd2-798fa93771c2",
   "metadata": {},
   "outputs": [
    {
     "name": "stdout",
     "output_type": "stream",
     "text": [
      "MLP(\n",
      "  (model): Sequential(\n",
      "    (0): Linear(in_features=20, out_features=64, bias=True)\n",
      "    (1): SiLU()\n",
      "    (2): Linear(in_features=64, out_features=32, bias=True)\n",
      "    (3): Dropout(p=0.2, inplace=False)\n",
      "    (4): Linear(in_features=32, out_features=16, bias=True)\n",
      "    (5): Dropout(p=0.2, inplace=False)\n",
      "    (6): Linear(in_features=16, out_features=6, bias=True)\n",
      "  )\n",
      ")\n"
     ]
    }
   ],
   "source": [
    "import torch\n",
    "import torch.nn as nn\n",
    "\n",
    "class MLP(nn.Module):\n",
    "    def __init__(self, input_size, hidden_sizes, output_size):\n",
    "        super(MLP, self).__init__()\n",
    "        layers = []\n",
    "        # Add input layer\n",
    "        layers.append(nn.Linear(input_size, hidden_sizes[0]))\n",
    "        layers.append(nn.SiLU())\n",
    "        # Add hidden layers\n",
    "        for i in range(len(hidden_sizes) - 1):\n",
    "            layers.append(nn.Linear(hidden_sizes[i], hidden_sizes[i+1]))\n",
    "            layers.append(nn.Dropout(0.2))\n",
    "        # Add output layer\n",
    "        layers.append(nn.Linear(hidden_sizes[-1], output_size))\n",
    "        self.model = nn.Sequential(*layers)\n",
    "\n",
    "    def forward(self, x):\n",
    "        return self.model(x)\n",
    "\n",
    "def inference_dl(model,X):\n",
    "    y_pred = model(X)\n",
    "    return y_pred\n",
    "\n",
    "def eval_model(model, X, y_true, criterion):\n",
    "    model.eval()\n",
    "    with torch.no_grad():\n",
    "        y_pred_tensor = inference_dl(model,x)\n",
    "        mse = criterion(y_pred_tensor, y_true)\n",
    "    model.train()\n",
    "    return mse,y_pred_tensor\n",
    "\n",
    "# Define input shape, hidden layer sizes, and output shape\n",
    "input_size = 20\n",
    "hidden_sizes = [64,32,16]  # Example hidden layer sizes, you can adjust these as needed\n",
    "output_size = 6\n",
    "\n",
    "# Create an instance of the MLP model\n",
    "model = MLP(input_size, hidden_sizes, output_size)\n",
    "\n",
    "# Print the model architecture\n",
    "print(model)"
   ]
  },
  {
   "cell_type": "markdown",
   "id": "eee439ed-637f-40d7-8a33-33d63daff248",
   "metadata": {},
   "source": [
    "### Train Model"
   ]
  },
  {
   "cell_type": "code",
   "execution_count": 8,
   "id": "8ae32974-d38c-4608-8712-8f4293366e1f",
   "metadata": {
    "scrolled": true
   },
   "outputs": [
    {
     "name": "stdout",
     "output_type": "stream",
     "text": [
      "Epoch [1/120], Train Loss: 29690.2168, Eval Loss: 33770.015625\n",
      "Epoch [2/120], Train Loss: 35732.1484, Eval Loss: 31509.35546875\n",
      "Epoch [3/120], Train Loss: 30075.2422, Eval Loss: 29110.7109375\n",
      "Epoch [4/120], Train Loss: 24754.5117, Eval Loss: 26564.376953125\n",
      "Epoch [5/120], Train Loss: 32993.4102, Eval Loss: 23807.830078125\n",
      "Epoch [6/120], Train Loss: 18934.8086, Eval Loss: 20853.890625\n",
      "Epoch [7/120], Train Loss: 19297.9258, Eval Loss: 17763.025390625\n",
      "Epoch [8/120], Train Loss: 7894.7612, Eval Loss: 14623.650390625\n",
      "Epoch [9/120], Train Loss: 7540.6416, Eval Loss: 11585.251953125\n",
      "Epoch [10/120], Train Loss: 16247.9688, Eval Loss: 8729.755859375\n",
      "Epoch [11/120], Train Loss: 9473.5117, Eval Loss: 6207.85498046875\n",
      "Epoch [12/120], Train Loss: 18318.7715, Eval Loss: 4183.236328125\n",
      "Epoch [13/120], Train Loss: 4957.2827, Eval Loss: 2719.599853515625\n",
      "Epoch [14/120], Train Loss: 4427.7671, Eval Loss: 1864.669189453125\n",
      "Epoch [15/120], Train Loss: 12655.7373, Eval Loss: 1432.021240234375\n",
      "Epoch [16/120], Train Loss: 8507.2881, Eval Loss: 1210.318603515625\n",
      "Epoch [17/120], Train Loss: 2408.9956, Eval Loss: 1094.610107421875\n",
      "Epoch [18/120], Train Loss: 6183.2549, Eval Loss: 1046.954833984375\n",
      "Epoch [19/120], Train Loss: 4421.2031, Eval Loss: 1045.16943359375\n",
      "Epoch [20/120], Train Loss: 5534.0933, Eval Loss: 1018.7255249023438\n",
      "Epoch [21/120], Train Loss: 9561.2402, Eval Loss: 1088.83203125\n",
      "Epoch [22/120], Train Loss: 2366.5896, Eval Loss: 1108.457275390625\n",
      "Epoch [23/120], Train Loss: 1602.6093, Eval Loss: 1091.0960693359375\n",
      "Epoch [24/120], Train Loss: 5625.0176, Eval Loss: 1061.2027587890625\n",
      "Epoch [25/120], Train Loss: 3652.3640, Eval Loss: 1026.3759765625\n",
      "Epoch [26/120], Train Loss: 5856.7061, Eval Loss: 1011.842529296875\n",
      "Epoch [27/120], Train Loss: 2353.3931, Eval Loss: 970.1535034179688\n",
      "Epoch [28/120], Train Loss: 3493.0269, Eval Loss: 944.271728515625\n",
      "Epoch [29/120], Train Loss: 4317.3887, Eval Loss: 950.0198364257812\n",
      "Epoch [30/120], Train Loss: 3482.7388, Eval Loss: 946.493408203125\n",
      "Epoch [31/120], Train Loss: 6532.8311, Eval Loss: 944.084716796875\n",
      "Epoch [32/120], Train Loss: 1881.5828, Eval Loss: 936.8630981445312\n",
      "Epoch [33/120], Train Loss: 4098.9761, Eval Loss: 946.1690673828125\n",
      "Epoch [34/120], Train Loss: 2575.3132, Eval Loss: 966.6063232421875\n",
      "Epoch [35/120], Train Loss: 3286.9783, Eval Loss: 955.9989624023438\n",
      "Epoch [36/120], Train Loss: 7599.3940, Eval Loss: 913.4362182617188\n",
      "Epoch [37/120], Train Loss: 3994.4597, Eval Loss: 888.8656005859375\n",
      "Epoch [38/120], Train Loss: 5444.0762, Eval Loss: 901.444580078125\n",
      "Epoch [39/120], Train Loss: 8809.2920, Eval Loss: 934.678466796875\n",
      "Epoch [40/120], Train Loss: 2327.8486, Eval Loss: 929.6121215820312\n",
      "Epoch [41/120], Train Loss: 7721.3389, Eval Loss: 893.2473754882812\n",
      "Epoch [42/120], Train Loss: 5169.9165, Eval Loss: 885.6647338867188\n",
      "Epoch [43/120], Train Loss: 5623.8364, Eval Loss: 870.2651977539062\n",
      "Epoch [44/120], Train Loss: 10115.6689, Eval Loss: 885.1917114257812\n",
      "Epoch [45/120], Train Loss: 12156.7725, Eval Loss: 921.0040893554688\n",
      "Epoch [46/120], Train Loss: 2157.8047, Eval Loss: 1006.2556762695312\n",
      "Epoch [47/120], Train Loss: 1868.2025, Eval Loss: 995.0696411132812\n",
      "Epoch [48/120], Train Loss: 3043.2529, Eval Loss: 990.4291381835938\n",
      "Epoch [49/120], Train Loss: 9665.3506, Eval Loss: 974.0228881835938\n",
      "Epoch [50/120], Train Loss: 11413.9043, Eval Loss: 905.5820922851562\n",
      "Epoch [51/120], Train Loss: 14303.6445, Eval Loss: 890.4647827148438\n",
      "Epoch [52/120], Train Loss: 3383.9946, Eval Loss: 888.2476806640625\n",
      "Epoch [53/120], Train Loss: 2794.2976, Eval Loss: 886.1497192382812\n",
      "Epoch [54/120], Train Loss: 3573.2170, Eval Loss: 892.4417724609375\n",
      "Epoch [55/120], Train Loss: 2066.1597, Eval Loss: 938.36962890625\n",
      "Epoch [56/120], Train Loss: 5250.1489, Eval Loss: 977.2269287109375\n",
      "Epoch [57/120], Train Loss: 3335.1797, Eval Loss: 970.3464965820312\n",
      "Epoch [58/120], Train Loss: 1816.2148, Eval Loss: 969.045166015625\n",
      "Epoch [59/120], Train Loss: 4980.6387, Eval Loss: 946.6271362304688\n",
      "Epoch [60/120], Train Loss: 5569.3755, Eval Loss: 944.4956665039062\n",
      "Epoch [61/120], Train Loss: 2268.9573, Eval Loss: 911.7886962890625\n",
      "Epoch [62/120], Train Loss: 2361.6848, Eval Loss: 887.2915649414062\n",
      "Epoch [63/120], Train Loss: 6517.9741, Eval Loss: 873.1383666992188\n",
      "Epoch [64/120], Train Loss: 4152.3330, Eval Loss: 874.714111328125\n",
      "Epoch [65/120], Train Loss: 5919.6167, Eval Loss: 869.03369140625\n",
      "Epoch [66/120], Train Loss: 2795.8269, Eval Loss: 872.1063232421875\n",
      "Epoch [67/120], Train Loss: 1847.2235, Eval Loss: 869.46435546875\n",
      "Epoch [68/120], Train Loss: 3068.4507, Eval Loss: 874.6249389648438\n",
      "Epoch [69/120], Train Loss: 4470.0454, Eval Loss: 883.1912231445312\n",
      "Epoch [70/120], Train Loss: 10162.4902, Eval Loss: 891.1353149414062\n",
      "Epoch [71/120], Train Loss: 14802.0195, Eval Loss: 936.0198974609375\n",
      "Epoch [72/120], Train Loss: 5439.2983, Eval Loss: 944.0263671875\n",
      "Epoch [73/120], Train Loss: 6010.2563, Eval Loss: 944.7805786132812\n",
      "Epoch [74/120], Train Loss: 1987.9371, Eval Loss: 889.771484375\n",
      "Epoch [75/120], Train Loss: 3583.0764, Eval Loss: 886.7543334960938\n",
      "Epoch [76/120], Train Loss: 2329.6184, Eval Loss: 890.0017700195312\n",
      "Epoch [77/120], Train Loss: 4553.5098, Eval Loss: 898.4151000976562\n",
      "Epoch [78/120], Train Loss: 1294.3256, Eval Loss: 922.9581298828125\n",
      "Epoch [79/120], Train Loss: 5669.0791, Eval Loss: 936.1222534179688\n",
      "Epoch [80/120], Train Loss: 1810.6462, Eval Loss: 906.1620483398438\n",
      "Epoch [81/120], Train Loss: 5472.9785, Eval Loss: 895.57470703125\n",
      "Epoch [82/120], Train Loss: 2201.8401, Eval Loss: 894.6613159179688\n",
      "Epoch [83/120], Train Loss: 3754.5415, Eval Loss: 894.32177734375\n",
      "Epoch [84/120], Train Loss: 3495.2749, Eval Loss: 898.7012329101562\n",
      "Epoch [85/120], Train Loss: 2750.0288, Eval Loss: 911.3467407226562\n",
      "Epoch [86/120], Train Loss: 2072.1877, Eval Loss: 932.24462890625\n",
      "Epoch [87/120], Train Loss: 1369.7616, Eval Loss: 930.855224609375\n",
      "Epoch [88/120], Train Loss: 4840.9609, Eval Loss: 923.4970703125\n",
      "Epoch [89/120], Train Loss: 2793.0276, Eval Loss: 917.3004760742188\n",
      "Epoch [90/120], Train Loss: 1659.8507, Eval Loss: 957.0858154296875\n",
      "Epoch [91/120], Train Loss: 3089.0688, Eval Loss: 938.6143188476562\n",
      "Epoch [92/120], Train Loss: 3681.6912, Eval Loss: 943.6011962890625\n",
      "Epoch [93/120], Train Loss: 1094.8557, Eval Loss: 963.8355102539062\n",
      "Epoch [94/120], Train Loss: 1974.2438, Eval Loss: 933.9448852539062\n",
      "Epoch [95/120], Train Loss: 3396.1985, Eval Loss: 926.8784790039062\n",
      "Epoch [96/120], Train Loss: 6354.0605, Eval Loss: 915.9722900390625\n",
      "Epoch [97/120], Train Loss: 11496.7812, Eval Loss: 918.0350952148438\n",
      "Epoch [98/120], Train Loss: 4874.2900, Eval Loss: 925.3814697265625\n",
      "Epoch [99/120], Train Loss: 2209.8103, Eval Loss: 936.2761840820312\n",
      "Epoch [100/120], Train Loss: 2500.5374, Eval Loss: 926.0167846679688\n",
      "Epoch [101/120], Train Loss: 1962.7219, Eval Loss: 936.79052734375\n",
      "Epoch [102/120], Train Loss: 2592.9089, Eval Loss: 974.2271118164062\n",
      "Epoch [103/120], Train Loss: 4925.7529, Eval Loss: 965.2486572265625\n",
      "Epoch [104/120], Train Loss: 6659.7163, Eval Loss: 923.8099365234375\n",
      "Epoch [105/120], Train Loss: 1249.7474, Eval Loss: 920.1998901367188\n",
      "Epoch [106/120], Train Loss: 2672.3279, Eval Loss: 924.2960205078125\n",
      "Epoch [107/120], Train Loss: 2574.2209, Eval Loss: 927.0218505859375\n",
      "Epoch [108/120], Train Loss: 15800.3779, Eval Loss: 936.5879516601562\n",
      "Epoch [109/120], Train Loss: 3440.4915, Eval Loss: 935.4987182617188\n",
      "Epoch [110/120], Train Loss: 6984.0312, Eval Loss: 937.9019775390625\n",
      "Epoch [111/120], Train Loss: 2100.3120, Eval Loss: 942.3804321289062\n",
      "Epoch [112/120], Train Loss: 6581.3691, Eval Loss: 945.930908203125\n",
      "Epoch [113/120], Train Loss: 5794.0723, Eval Loss: 962.0822143554688\n",
      "Epoch [114/120], Train Loss: 1216.3510, Eval Loss: 973.8270874023438\n",
      "Epoch [115/120], Train Loss: 4757.4473, Eval Loss: 947.7728881835938\n",
      "Epoch [116/120], Train Loss: 4168.9136, Eval Loss: 980.3236083984375\n",
      "Epoch [117/120], Train Loss: 3572.0662, Eval Loss: 968.3738403320312\n",
      "Epoch [118/120], Train Loss: 5695.1670, Eval Loss: 929.8765869140625\n",
      "Epoch [119/120], Train Loss: 2521.8435, Eval Loss: 1003.01123046875\n",
      "Epoch [120/120], Train Loss: 6073.0552, Eval Loss: 930.5294189453125\n"
     ]
    }
   ],
   "source": [
    "# Define loss function and optimize\n",
    "train_loss, eval_loss = [],[]\n",
    "criterion = nn.MSELoss()\n",
    "optimizer = optim.Adam(model.parameters(), lr=learning_rate)\n",
    "model.train()\n",
    "for epoch in range(num_epochs):\n",
    "    for inputs, targets in train_loader:\n",
    "        optimizer.zero_grad()\n",
    "        outputs = model(inputs)\n",
    "        loss = criterion(outputs, targets)\n",
    "        # # L2 regularization\n",
    "        # l2_reg = torch.tensor(0.)\n",
    "        # for param in model.parameters():\n",
    "        #     l2_reg += torch.norm(param)\n",
    "        # loss += lambda_ * l2_reg\n",
    "        loss.backward()\n",
    "        optimizer.step()\n",
    "        \n",
    "    mse_eval,y_pred = eval_model(model, X_val_tensor, y_val_tensor, criterion)\n",
    "    train_loss.append(loss.item())\n",
    "    eval_loss.append(mse_eval)\n",
    "    print(f'Epoch [{epoch + 1}/{num_epochs}], Train Loss: {loss.item():.4f}, Eval Loss: {mse_eval}')"
   ]
  },
  {
   "cell_type": "markdown",
   "id": "d481b544-95d9-40d8-808a-34fab001ef99",
   "metadata": {},
   "source": [
    "### Machine Learning Model"
   ]
  },
  {
   "cell_type": "code",
   "execution_count": 18,
   "id": "1a018f26-644a-42cd-a197-2395fbf477b1",
   "metadata": {},
   "outputs": [],
   "source": [
    "import xgboost as xgb\n",
    "import numpy as np\n",
    "\n",
    "# Define your XGBoost regression model\n",
    "class XGBoostRegression:\n",
    "    def __init__(self, input_shape, output_shape, n_estimators=1000, learning_rate=0.01, max_depth=5):\n",
    "        self.input_shape = input_shape\n",
    "        self.output_shape = output_shape\n",
    "        self.n_estimators = n_estimators\n",
    "        self.learning_rate = learning_rate\n",
    "        self.max_depth = max_depth\n",
    "\n",
    "        # Initialize the XGBoost regressor\n",
    "        self.model = xgb.XGBRegressor(\n",
    "            n_estimators=self.n_estimators,\n",
    "            learning_rate=self.learning_rate,\n",
    "            max_depth=self.max_depth\n",
    "        )\n",
    "\n",
    "    def fit(self, X_train, y_train):\n",
    "        # Reshape the input and output data\n",
    "        X_train = np.array(X_train).reshape(-1, self.input_shape)\n",
    "        y_train = np.array(y_train).reshape(-1, self.output_shape)\n",
    "\n",
    "        # Fit the model to the training data\n",
    "        self.model.fit(X_train, y_train)\n",
    "\n",
    "    def predict(self, X_test):\n",
    "        # Reshape the input data\n",
    "        X_test = np.array(X_test).reshape(-1, self.input_shape)\n",
    "\n",
    "        # Make predictions\n",
    "        predictions = self.model.predict(X_test)\n",
    "\n",
    "        return predictions\n",
    "\n",
    "# Define hyperparameters\n",
    "input_shape = 20\n",
    "output_shape = 6\n",
    "n_estimators = 100\n",
    "learning_rate = 0.1\n",
    "max_depth = 3\n",
    "\n",
    "# Create an instance of the XGBoost regression model\n",
    "xgb_model = XGBoostRegression(input_shape, output_shape, n_estimators, learning_rate, max_depth)\n",
    "\n",
    "# Train the model\n",
    "xgb_model.fit(X_train, y_train)\n",
    "\n",
    "# Make predictions\n",
    "predictions_ML = xgb_model.predict(X_val)"
   ]
  },
  {
   "cell_type": "code",
   "execution_count": 19,
   "id": "c4533786-75db-46da-b9a3-83227ebe5c04",
   "metadata": {},
   "outputs": [
    {
     "name": "stdout",
     "output_type": "stream",
     "text": [
      "Mean Squared Error (MSE): 1468.4697901397233\n",
      "R2 Scored: 0.2736832727807254\n"
     ]
    }
   ],
   "source": [
    "# Calculate Mean Squared Error (MSE)\n",
    "from sklearn.metrics import mean_squared_error,r2_score\n",
    "mse = mean_squared_error(y_val, predictions_ML)\n",
    "print(\"Mean Squared Error (MSE):\", mse)\n",
    "r2 = r2_score(y_val, predictions)\n",
    "print(\"R2 Scored:\", r2) "
   ]
  },
  {
   "cell_type": "code",
   "execution_count": 21,
   "id": "dc392e1c-2f86-45d5-aa37-7e278f23e8d3",
   "metadata": {},
   "outputs": [
    {
     "data": {
      "text/plain": [
       "array([[144.5817  , 208.84457 , 223.75044 , 260.65256 , 300.86237 ,\n",
       "        320.98373 ],\n",
       "       [120.68752 , 153.52113 , 179.46315 , 198.41481 , 224.50174 ,\n",
       "        236.61555 ],\n",
       "       [126.32879 , 153.10117 , 174.27716 , 229.9773  , 255.30688 ,\n",
       "        277.99    ],\n",
       "       [130.23335 , 174.07773 , 187.95557 , 223.7012  , 245.36227 ,\n",
       "        258.95645 ],\n",
       "       [100.39842 , 142.08853 , 166.6465  , 177.90643 , 205.74957 ,\n",
       "        220.7565  ],\n",
       "       [129.96935 , 163.72963 , 183.25061 , 214.25584 , 229.93515 ,\n",
       "        262.20316 ],\n",
       "       [ 82.26271 , 122.06113 , 146.81364 , 194.51768 , 210.65193 ,\n",
       "        201.02747 ],\n",
       "       [121.09216 , 153.53975 , 175.47755 , 217.6715  , 249.82301 ,\n",
       "        278.2814  ],\n",
       "       [119.695335, 141.94571 , 168.37889 , 191.09775 , 193.69122 ,\n",
       "        228.67717 ],\n",
       "       [118.80754 , 153.28566 , 165.01245 , 184.53697 , 203.57243 ,\n",
       "        219.91893 ],\n",
       "       [115.071976, 184.53407 , 200.99895 , 250.32808 , 281.18774 ,\n",
       "        312.6249  ],\n",
       "       [120.378746, 166.57913 , 185.0984  , 206.61662 , 226.71829 ,\n",
       "        268.35693 ],\n",
       "       [104.74003 , 153.19969 , 178.65462 , 226.27563 , 261.46777 ,\n",
       "        280.64844 ],\n",
       "       [116.9436  , 167.42809 , 201.03407 , 257.17426 , 288.16782 ,\n",
       "        330.54904 ],\n",
       "       [105.7494  , 140.90154 , 163.1621  , 184.55638 , 203.2872  ,\n",
       "        216.6424  ],\n",
       "       [114.281044, 174.02245 , 180.41461 , 203.83179 , 231.43079 ,\n",
       "        249.64853 ],\n",
       "       [142.11415 , 194.46344 , 214.05327 , 250.58382 , 285.55566 ,\n",
       "        281.877   ],\n",
       "       [103.24326 , 118.419945, 108.37084 , 132.23561 , 156.64941 ,\n",
       "        162.4512  ],\n",
       "       [ 84.907234, 107.56654 , 117.65453 , 152.09764 , 175.62837 ,\n",
       "        192.72676 ],\n",
       "       [153.3333  , 203.82172 , 234.5799  , 259.30585 , 300.57266 ,\n",
       "        318.30887 ],\n",
       "       [107.51281 , 132.579   , 137.09221 , 160.53345 , 174.39905 ,\n",
       "        200.17578 ],\n",
       "       [115.559525, 141.16765 , 155.1625  , 193.26758 , 214.73709 ,\n",
       "        207.38823 ],\n",
       "       [146.98215 , 170.02957 , 199.20277 , 239.26819 , 257.35175 ,\n",
       "        268.8765  ]], dtype=float32)"
      ]
     },
     "execution_count": 21,
     "metadata": {},
     "output_type": "execute_result"
    }
   ],
   "source": [
    "predictions"
   ]
  },
  {
   "cell_type": "code",
   "execution_count": 22,
   "id": "f48eb867-404a-48f3-a5ed-c6b726f4af0d",
   "metadata": {},
   "outputs": [],
   "source": [
    "y_pred_ML = predictions\n",
    "y_stas = y_val\n",
    "y_gpm = []\n",
    "for key,val in pu_gpm_test.items():\n",
    "    y_gpm.append(list(val))\n",
    "y_gpm = np.array(y_gpm)"
   ]
  },
  {
   "cell_type": "code",
   "execution_count": 24,
   "id": "ebe257ee-1637-44d4-8d6c-8fa9d4bb6046",
   "metadata": {},
   "outputs": [
    {
     "data": {
      "image/png": "[encoded data removed]",
      "text/plain": [
       "<Figure size 640x480 with 1 Axes>"
      ]
     },
     "metadata": {},
     "output_type": "display_data"
    }
   ],
   "source": [
    "import matplotlib.pyplot as plt\n",
    "m = 2\n",
    "plt.plot(np.arange(0,len(y_val[:,5])),(predictions[:,m]), label = \"Predictions ML\")\n",
    "plt.plot(np.arange(0,len(y_val[:,5])),(y_pred[:,m]), label = \"Predictions DL\")\n",
    "plt.plot(np.arange(0,len(y_val[:,5])), y_val[:,m], label = \"True\")\n",
    "plt.plot(np.arange(0,len(y_val[:,5])), y_gpm[:,m], label = \"GPM\")\n",
    "plt.title(f\"Periode Ulang {T[m]}\")\n",
    "plt.legend()\n",
    "plt.show()"
   ]
  },
  {
   "cell_type": "markdown",
   "id": "9c6525a8-0421-42b4-b0e3-c63e29d60605",
   "metadata": {},
   "source": [
    "### Evaluasi Perfomance"
   ]
  },
  {
   "cell_type": "code",
   "execution_count": 16,
   "id": "309ae04d-a503-49f3-b2ec-efec1006764f",
   "metadata": {},
   "outputs": [],
   "source": [
    "class Evaluation:\n",
    "    def __init__(self, model):\n",
    "        self.model = model\n",
    "\n",
    "    def calculate_mse(self, y_pred, y_true):\n",
    "        mse = mean_squared_error(y_pred=y_pred, y_true= y_true)\n",
    "        return mse\n",
    "\n",
    "    def calculate_rmse(self, y_pred, y_true):\n",
    "        mse = mean_squared_error(y_true, y_pred)\n",
    "        rmse = np.sqrt(mse)\n",
    "        return rmse\n",
    "    \n",
    "    def calculate_nmse_mean(self, y_pred, y_true):\n",
    "        rmse = self.calculate_rmse(y_pred=y_pred , y_true=y_true)\n",
    "        nmse_mean = rmse/np.mean(y_true)\n",
    "        return nmse_mean\n",
    "    \n",
    "    def calculate_nmse_std(self, y_pred, y_true):\n",
    "        rmse = self.calculate_rmse(y_pred=y_pred , y_true=y_true)\n",
    "        nmse_std = rmse/np.std(y_true)\n",
    "        return nmse_std\n",
    "    \n",
    "    def calculate_nmse_min_max(self, y_pred, y_true):\n",
    "        rmse = self.calculate_rmse(y_pred=y_pred, y_true=y_true)\n",
    "    \n",
    "        # Menangani kasus ketika nilai maksimum dan minimum sama\n",
    "        if np.max(y_true) == np.min(y_true):\n",
    "        # Handle secara khusus untuk menghindari pembagian oleh nol\n",
    "            nmse_min_max = 0.0\n",
    "        else:\n",
    "            nmse_min_max = rmse / (np.max(y_true) - np.min(y_true))\n",
    "    \n",
    "        return nmse_min_max\n",
    "        \n",
    "evaluation = Evaluation(model)"
   ]
  },
  {
   "cell_type": "code",
   "execution_count": 17,
   "id": "19d496c5-3cea-432b-b957-b46e5a69cfb2",
   "metadata": {},
   "outputs": [],
   "source": [
    "def plot_boxplot_nmse(nmse_values,T, skema_simulasi):\n",
    "    # Buat boxplot\n",
    "    fig, ax = plt.subplots()\n",
    "    ax.boxplot(nmse_values, labels=T)\n",
    "    ax.set_xlabel('Return Period (Yr)')\n",
    "    ax.set_ylabel('NMSE Mean')\n",
    "    ax.set_title(f'Difference NMSE Mean {skema_simulasi}')\n",
    "    plt.show()    "
   ]
  },
  {
   "cell_type": "code",
   "execution_count": 18,
   "id": "8a38274f-ff45-4303-b607-288abf045531",
   "metadata": {},
   "outputs": [],
   "source": [
    "nmse_mean_pred_ML_stas = []\n",
    "nmse_mean_gpm_stas = []\n",
    "nmse_mean_pred_DL_stas = []\n",
    "for i in range(y_pred_ML.shape[1]):\n",
    "    nmse_mean_pred_ML_stas.append(evaluation.calculate_nmse_mean(y_pred_ML[:,i], y_stas[:,i]))\n",
    "    nmse_mean_gpm_stas.append(evaluation.calculate_nmse_mean(y_gpm[:,i], y_stas[:,i]))\n",
    "    nmse_mean_pred_DL_stas.append(evaluation.calculate_nmse_mean(y_pred[:,i], y_stas[:,i]))"
   ]
  },
  {
   "cell_type": "code",
   "execution_count": 19,
   "id": "e10f0fb9-f757-4a45-8bbb-326b952638c2",
   "metadata": {},
   "outputs": [
    {
     "data": {
      "text/plain": [
       "[0.19886979807748303,\n",
       " 0.19967363452032666,\n",
       " 0.18675937548347507,\n",
       " 0.18894188056304215,\n",
       " 0.21441955171807067,\n",
       " 0.21429605733994814]"
      ]
     },
     "execution_count": 19,
     "metadata": {},
     "output_type": "execute_result"
    }
   ],
   "source": [
    "nmse_mean_pred_ML_stas"
   ]
  },
  {
   "cell_type": "code",
   "execution_count": 20,
   "id": "43e1139d-eba3-405f-88bf-a6360e26e660",
   "metadata": {
    "scrolled": true
   },
   "outputs": [
    {
     "data": {
      "text/plain": [
       "[0.19096999984060592,\n",
       " 0.17896283045138237,\n",
       " 0.1716577311094065,\n",
       " 0.17668153055909355,\n",
       " 0.18442879071301,\n",
       " 0.18734228628127716]"
      ]
     },
     "execution_count": 20,
     "metadata": {},
     "output_type": "execute_result"
    }
   ],
   "source": [
    "nmse_mean_pred_DL_stas"
   ]
  },
  {
   "cell_type": "code",
   "execution_count": 21,
   "id": "08cf4396-6058-4868-a9fa-8afccf156e6b",
   "metadata": {},
   "outputs": [
    {
     "data": {
      "text/plain": [
       "[0.1591697141359972,\n",
       " 0.1544347738715816,\n",
       " 0.15809247938176813,\n",
       " 0.164759377072338,\n",
       " 0.16992693076123772,\n",
       " 0.1748392267372046]"
      ]
     },
     "execution_count": 21,
     "metadata": {},
     "output_type": "execute_result"
    }
   ],
   "source": [
    "nmse_mean_gpm_stas"
   ]
  },
  {
   "cell_type": "code",
   "execution_count": 22,
   "id": "17f8e878-124a-4b03-aa0b-f7bc23e0cc05",
   "metadata": {},
   "outputs": [
    {
     "data": {
      "text/plain": [
       "['Stasiun Meteorologi Cut Nyak Dhien Nagan Raya',\n",
       " 'Stasiun Meteorologi Binaka',\n",
       " 'Stasiun Klimatologi Padang Pariaman',\n",
       " 'Stasiun Meteorologi Hang Nadim',\n",
       " 'Stasiun Meteorologi Sultan Thaha',\n",
       " 'Stasiun Meteorologi Sultan Mahmud Badaruddin II',\n",
       " 'Stasiun Klimatologi Bogor',\n",
       " 'Stasiun Meteorologi Tunggul Wulung',\n",
       " 'Stasiun Meteorologi Maritim Tanjung Priok',\n",
       " 'Stasiun Meteorologi Juanda',\n",
       " 'Stasiun Klimatologi Mempawah',\n",
       " 'Stasiun Meteorologi Susilo',\n",
       " 'Stasiun Meteorologi H. Asan',\n",
       " 'Stasiun Meteorologi Juwata',\n",
       " 'Stasiun Meteorologi I Gusti Ngurah Rai',\n",
       " 'Stasiun Meteorologi David Constatijn Saudale',\n",
       " 'Stasiun Meteorologi Tardamu',\n",
       " 'Stasiun Klimatologi Maros',\n",
       " 'Stasiun Meteorologi Mutiara Sis-Al Jufri',\n",
       " 'Stasiun Meteorologi Sangia Ni Bandera',\n",
       " 'Stasiun Meteorologi Namlea',\n",
       " 'Stasiun Meteorologi Oesman Sadik',\n",
       " 'Stasiun Meteorologi Sentani',\n",
       " 'Stasiun Meteorologi Mozez Kilangin']"
      ]
     },
     "execution_count": 22,
     "metadata": {},
     "output_type": "execute_result"
    }
   ],
   "source": [
    "stasiun_test"
   ]
  },
  {
   "cell_type": "code",
   "execution_count": null,
   "id": "c79cd436-8437-4293-9a7e-dd706fc55085",
   "metadata": {},
   "outputs": [],
   "source": []
  }
 ],
 "metadata": {
  "kernelspec": {
   "display_name": "Python 3 (ipykernel)",
   "language": "python",
   "name": "python3"
  },
  "language_info": {
   "codemirror_mode": {
    "name": "ipython",
    "version": 3
   },
   "file_extension": ".py",
   "mimetype": "text/x-python",
   "name": "python",
   "nbconvert_exporter": "python",
   "pygments_lexer": "ipython3",
   "version": "3.10.9"
  }
 },
 "nbformat": 4,
 "nbformat_minor": 5
}
