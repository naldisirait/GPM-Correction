{
 "cells": [
  {
   "cell_type": "code",
   "execution_count": 1,
   "id": "ed3a9d61-6e48-422d-a879-5be51e5a7616",
   "metadata": {},
   "outputs": [],
   "source": [
    "import pickle\n",
    "import numpy as np\n",
    "\n",
    "def load_pickle(filename):\n",
    "    with open(filename, 'rb') as file:\n",
    "        # Use pickle.load() to deserialize and load the data\n",
    "        loaded_data = pickle.load(file)\n",
    "    return loaded_data"
   ]
  },
  {
   "cell_type": "code",
   "execution_count": 2,
   "id": "54157808-6690-4dd0-a37a-c930390a337e",
   "metadata": {},
   "outputs": [],
   "source": [
    "ann_max_stas = load_pickle(\"all_annual_max.pickle\")"
   ]
  },
  {
   "cell_type": "code",
   "execution_count": 3,
   "id": "4de30260-6bf0-4fd9-9124-b166c899b51d",
   "metadata": {
    "scrolled": true
   },
   "outputs": [],
   "source": [
    "stas_chosen = {}\n",
    "# Specify the file path where you want to write the string\n",
    "file_path = \"Data error.txt\"\n",
    "n = 1\n",
    "# Open the file in write mode ('w')\n",
    "with open(file_path, 'w') as file:\n",
    "    # Write the string to the file\n",
    "    for key,val in ann_max_stas.items():\n",
    "        if np.isnan(np.max(val)):\n",
    "            key_val = f\"{n}. {key}, panjang data: {len(val)} tahun, ada nilai nan \\n\"\n",
    "            val = f\"{val} \\n\"\n",
    "            file.write(key_val+val+\"\\n\")\n",
    "            n+=1\n",
    "            \n",
    "        elif (len(val) < 20):\n",
    "            key_val = f\"{n}. {key}, panjang data: {len(val)} tahun, jumlah data < 20 \\n\"\n",
    "            val = f\"{val} \\n\"\n",
    "            file.write(key_val+val+\"\\n\")\n",
    "            n+=1\n",
    "            \n",
    "        elif (0.0 in val):\n",
    "            key_val = f\"{n}. {key}, panjang data: {len(val)} tahun, terdapat nilai 0 \\n\"\n",
    "            val = f\"{val} \\n\"\n",
    "            file.write(key_val+val+\"\\n\")\n",
    "            n+=1\n",
    "            \n",
    "        else:\n",
    "            stas_chosen[key] = val"
   ]
  },
  {
   "cell_type": "code",
   "execution_count": 4,
   "id": "a30c4435-df3f-4569-bf5f-eb6579103caf",
   "metadata": {},
   "outputs": [
    {
     "data": {
      "text/plain": [
       "95"
      ]
     },
     "execution_count": 4,
     "metadata": {},
     "output_type": "execute_result"
    }
   ],
   "source": [
    "len(stas_chosen)"
   ]
  }
 ],
 "metadata": {
  "kernelspec": {
   "display_name": "Python 3 (ipykernel)",
   "language": "python",
   "name": "python3"
  },
  "language_info": {
   "codemirror_mode": {
    "name": "ipython",
    "version": 3
   },
   "file_extension": ".py",
   "mimetype": "text/x-python",
   "name": "python",
   "nbconvert_exporter": "python",
   "pygments_lexer": "ipython3",
   "version": "3.10.9"
  }
 },
 "nbformat": 4,
 "nbformat_minor": 5
}
